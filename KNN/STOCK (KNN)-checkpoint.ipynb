{
 "cells": [
  {
   "cell_type": "code",
   "execution_count": 1,
   "metadata": {
    "executionInfo": {
     "elapsed": 485,
     "status": "ok",
     "timestamp": 1701667976115,
     "user": {
      "displayName": "Abhishek Bajpai",
      "userId": "11088130130870770770"
     },
     "user_tz": -330
    },
    "id": "MK3Xoo3PLJ1z"
   },
   "outputs": [],
   "source": [
    "import pandas as pd\n",
    "import numpy as np\n",
    "import matplotlib.pyplot as plt"
   ]
  },
  {
   "cell_type": "code",
   "execution_count": 3,
   "metadata": {
    "colab": {
     "base_uri": "https://localhost:8080/"
    },
    "executionInfo": {
     "elapsed": 4695,
     "status": "ok",
     "timestamp": 1701670488038,
     "user": {
      "displayName": "Abhishek Bajpai",
      "userId": "11088130130870770770"
     },
     "user_tz": -330
    },
    "id": "jh2mELr8LyK0",
    "outputId": "b54a5d6e-174e-4816-d25d-111b52378005"
   },
   "outputs": [
    {
     "name": "stdout",
     "output_type": "stream",
     "text": [
      "Defaulting to user installation because normal site-packages is not writeable\n",
      "Requirement already satisfied: yfinance in c:\\users\\ab775\\appdata\\roaming\\python\\python311\\site-packages (0.2.33)\n",
      "Requirement already satisfied: pandas>=1.3.0 in c:\\programdata\\anaconda3\\lib\\site-packages (from yfinance) (1.5.3)\n",
      "Requirement already satisfied: numpy>=1.16.5 in c:\\programdata\\anaconda3\\lib\\site-packages (from yfinance) (1.24.3)\n",
      "Requirement already satisfied: requests>=2.31 in c:\\programdata\\anaconda3\\lib\\site-packages (from yfinance) (2.31.0)\n",
      "Requirement already satisfied: multitasking>=0.0.7 in c:\\users\\ab775\\appdata\\roaming\\python\\python311\\site-packages (from yfinance) (0.0.11)\n",
      "Requirement already satisfied: lxml>=4.9.1 in c:\\programdata\\anaconda3\\lib\\site-packages (from yfinance) (4.9.2)\n",
      "Requirement already satisfied: appdirs>=1.4.4 in c:\\programdata\\anaconda3\\lib\\site-packages (from yfinance) (1.4.4)\n",
      "Requirement already satisfied: pytz>=2022.5 in c:\\programdata\\anaconda3\\lib\\site-packages (from yfinance) (2022.7)\n",
      "Requirement already satisfied: frozendict>=2.3.4 in c:\\users\\ab775\\appdata\\roaming\\python\\python311\\site-packages (from yfinance) (2.3.10)\n",
      "Requirement already satisfied: peewee>=3.16.2 in c:\\users\\ab775\\appdata\\roaming\\python\\python311\\site-packages (from yfinance) (3.17.0)\n",
      "Requirement already satisfied: beautifulsoup4>=4.11.1 in c:\\programdata\\anaconda3\\lib\\site-packages (from yfinance) (4.12.2)\n",
      "Requirement already satisfied: html5lib>=1.1 in c:\\users\\ab775\\appdata\\roaming\\python\\python311\\site-packages (from yfinance) (1.1)\n",
      "Requirement already satisfied: soupsieve>1.2 in c:\\programdata\\anaconda3\\lib\\site-packages (from beautifulsoup4>=4.11.1->yfinance) (2.4)\n",
      "Requirement already satisfied: six>=1.9 in c:\\programdata\\anaconda3\\lib\\site-packages (from html5lib>=1.1->yfinance) (1.16.0)\n",
      "Requirement already satisfied: webencodings in c:\\programdata\\anaconda3\\lib\\site-packages (from html5lib>=1.1->yfinance) (0.5.1)\n",
      "Requirement already satisfied: python-dateutil>=2.8.1 in c:\\programdata\\anaconda3\\lib\\site-packages (from pandas>=1.3.0->yfinance) (2.8.2)\n",
      "Requirement already satisfied: charset-normalizer<4,>=2 in c:\\programdata\\anaconda3\\lib\\site-packages (from requests>=2.31->yfinance) (2.0.4)\n",
      "Requirement already satisfied: idna<4,>=2.5 in c:\\programdata\\anaconda3\\lib\\site-packages (from requests>=2.31->yfinance) (3.4)\n",
      "Requirement already satisfied: urllib3<3,>=1.21.1 in c:\\programdata\\anaconda3\\lib\\site-packages (from requests>=2.31->yfinance) (1.26.16)\n",
      "Requirement already satisfied: certifi>=2017.4.17 in c:\\programdata\\anaconda3\\lib\\site-packages (from requests>=2.31->yfinance) (2023.7.22)\n"
     ]
    }
   ],
   "source": [
    "!pip install yfinance\n",
    "import yfinance as yf"
   ]
  },
  {
   "cell_type": "code",
   "execution_count": null,
   "metadata": {
    "colab": {
     "base_uri": "https://localhost:8080/"
    },
    "executionInfo": {
     "elapsed": 971,
     "status": "ok",
     "timestamp": 1701670511220,
     "user": {
      "displayName": "Abhishek Bajpai",
      "userId": "11088130130870770770"
     },
     "user_tz": -330
    },
    "id": "vVJORRmbSwp4",
    "outputId": "1d052322-bfd8-4edd-e395-e01385b099a9"
   },
   "outputs": [],
   "source": [
    "start='2012-01-01'\n",
    "end='2023-11-15'\n",
    "\n",
    "stock='GOOG'\n",
    "\n",
    "df=yf.download(stock,start,end)"
   ]
  },
  {
   "cell_type": "code",
   "execution_count": 42,
   "metadata": {
    "executionInfo": {
     "elapsed": 4,
     "status": "ok",
     "timestamp": 1701670581403,
     "user": {
      "displayName": "Abhishek Bajpai",
      "userId": "11088130130870770770"
     },
     "user_tz": -330
    },
    "id": "ksMy0i8UeBng"
   },
   "outputs": [],
   "source": [
    "df.reset_index(inplace=True)"
   ]
  },
  {
   "cell_type": "code",
   "execution_count": 43,
   "metadata": {
    "colab": {
     "base_uri": "https://localhost:8080/",
     "height": 423
    },
    "executionInfo": {
     "elapsed": 1006,
     "status": "ok",
     "timestamp": 1701670585669,
     "user": {
      "displayName": "Abhishek Bajpai",
      "userId": "11088130130870770770"
     },
     "user_tz": -330
    },
    "id": "YDfNtbqyeCJm",
    "outputId": "c6e99b91-841a-4732-e47f-9efce2898b49"
   },
   "outputs": [
    {
     "data": {
      "text/html": [
       "\n",
       "  <div id=\"df-378bdbbb-11ae-4f1d-8ce7-1b219292a079\" class=\"colab-df-container\">\n",
       "    <div>\n",
       "<style scoped>\n",
       "    .dataframe tbody tr th:only-of-type {\n",
       "        vertical-align: middle;\n",
       "    }\n",
       "\n",
       "    .dataframe tbody tr th {\n",
       "        vertical-align: top;\n",
       "    }\n",
       "\n",
       "    .dataframe thead th {\n",
       "        text-align: right;\n",
       "    }\n",
       "</style>\n",
       "<table border=\"1\" class=\"dataframe\">\n",
       "  <thead>\n",
       "    <tr style=\"text-align: right;\">\n",
       "      <th></th>\n",
       "      <th>Date</th>\n",
       "      <th>Open</th>\n",
       "      <th>High</th>\n",
       "      <th>Low</th>\n",
       "      <th>Close</th>\n",
       "      <th>Adj Close</th>\n",
       "      <th>Volume</th>\n",
       "    </tr>\n",
       "  </thead>\n",
       "  <tbody>\n",
       "    <tr>\n",
       "      <th>0</th>\n",
       "      <td>2012-01-03</td>\n",
       "      <td>16.262545</td>\n",
       "      <td>16.641375</td>\n",
       "      <td>16.248346</td>\n",
       "      <td>16.573130</td>\n",
       "      <td>16.573130</td>\n",
       "      <td>147611217</td>\n",
       "    </tr>\n",
       "    <tr>\n",
       "      <th>1</th>\n",
       "      <td>2012-01-04</td>\n",
       "      <td>16.563665</td>\n",
       "      <td>16.693678</td>\n",
       "      <td>16.453827</td>\n",
       "      <td>16.644611</td>\n",
       "      <td>16.644611</td>\n",
       "      <td>114989399</td>\n",
       "    </tr>\n",
       "    <tr>\n",
       "      <th>2</th>\n",
       "      <td>2012-01-05</td>\n",
       "      <td>16.491436</td>\n",
       "      <td>16.537264</td>\n",
       "      <td>16.344486</td>\n",
       "      <td>16.413727</td>\n",
       "      <td>16.413727</td>\n",
       "      <td>131808205</td>\n",
       "    </tr>\n",
       "    <tr>\n",
       "      <th>3</th>\n",
       "      <td>2012-01-06</td>\n",
       "      <td>16.417213</td>\n",
       "      <td>16.438385</td>\n",
       "      <td>16.184088</td>\n",
       "      <td>16.189817</td>\n",
       "      <td>16.189817</td>\n",
       "      <td>108119746</td>\n",
       "    </tr>\n",
       "    <tr>\n",
       "      <th>4</th>\n",
       "      <td>2012-01-09</td>\n",
       "      <td>16.102144</td>\n",
       "      <td>16.114599</td>\n",
       "      <td>15.472754</td>\n",
       "      <td>15.503389</td>\n",
       "      <td>15.503389</td>\n",
       "      <td>233776981</td>\n",
       "    </tr>\n",
       "    <tr>\n",
       "      <th>...</th>\n",
       "      <td>...</td>\n",
       "      <td>...</td>\n",
       "      <td>...</td>\n",
       "      <td>...</td>\n",
       "      <td>...</td>\n",
       "      <td>...</td>\n",
       "      <td>...</td>\n",
       "    </tr>\n",
       "    <tr>\n",
       "      <th>2982</th>\n",
       "      <td>2023-11-08</td>\n",
       "      <td>132.360001</td>\n",
       "      <td>133.539993</td>\n",
       "      <td>132.160004</td>\n",
       "      <td>133.259995</td>\n",
       "      <td>133.259995</td>\n",
       "      <td>15093600</td>\n",
       "    </tr>\n",
       "    <tr>\n",
       "      <th>2983</th>\n",
       "      <td>2023-11-09</td>\n",
       "      <td>133.360001</td>\n",
       "      <td>133.960007</td>\n",
       "      <td>131.509995</td>\n",
       "      <td>131.690002</td>\n",
       "      <td>131.690002</td>\n",
       "      <td>17976500</td>\n",
       "    </tr>\n",
       "    <tr>\n",
       "      <th>2984</th>\n",
       "      <td>2023-11-10</td>\n",
       "      <td>131.529999</td>\n",
       "      <td>134.270004</td>\n",
       "      <td>130.869995</td>\n",
       "      <td>134.059998</td>\n",
       "      <td>134.059998</td>\n",
       "      <td>20872900</td>\n",
       "    </tr>\n",
       "    <tr>\n",
       "      <th>2985</th>\n",
       "      <td>2023-11-13</td>\n",
       "      <td>133.360001</td>\n",
       "      <td>134.110001</td>\n",
       "      <td>132.770004</td>\n",
       "      <td>133.639999</td>\n",
       "      <td>133.639999</td>\n",
       "      <td>16409900</td>\n",
       "    </tr>\n",
       "    <tr>\n",
       "      <th>2986</th>\n",
       "      <td>2023-11-14</td>\n",
       "      <td>135.649994</td>\n",
       "      <td>137.240005</td>\n",
       "      <td>135.100006</td>\n",
       "      <td>135.429993</td>\n",
       "      <td>135.429993</td>\n",
       "      <td>22317300</td>\n",
       "    </tr>\n",
       "  </tbody>\n",
       "</table>\n",
       "<p>2987 rows × 7 columns</p>\n",
       "</div>\n",
       "    <div class=\"colab-df-buttons\">\n",
       "\n",
       "  <div class=\"colab-df-container\">\n",
       "    <button class=\"colab-df-convert\" onclick=\"convertToInteractive('df-378bdbbb-11ae-4f1d-8ce7-1b219292a079')\"\n",
       "            title=\"Convert this dataframe to an interactive table.\"\n",
       "            style=\"display:none;\">\n",
       "\n",
       "  <svg xmlns=\"http://www.w3.org/2000/svg\" height=\"24px\" viewBox=\"0 -960 960 960\">\n",
       "    <path d=\"M120-120v-720h720v720H120Zm60-500h600v-160H180v160Zm220 220h160v-160H400v160Zm0 220h160v-160H400v160ZM180-400h160v-160H180v160Zm440 0h160v-160H620v160ZM180-180h160v-160H180v160Zm440 0h160v-160H620v160Z\"/>\n",
       "  </svg>\n",
       "    </button>\n",
       "\n",
       "  <style>\n",
       "    .colab-df-container {\n",
       "      display:flex;\n",
       "      gap: 12px;\n",
       "    }\n",
       "\n",
       "    .colab-df-convert {\n",
       "      background-color: #E8F0FE;\n",
       "      border: none;\n",
       "      border-radius: 50%;\n",
       "      cursor: pointer;\n",
       "      display: none;\n",
       "      fill: #1967D2;\n",
       "      height: 32px;\n",
       "      padding: 0 0 0 0;\n",
       "      width: 32px;\n",
       "    }\n",
       "\n",
       "    .colab-df-convert:hover {\n",
       "      background-color: #E2EBFA;\n",
       "      box-shadow: 0px 1px 2px rgba(60, 64, 67, 0.3), 0px 1px 3px 1px rgba(60, 64, 67, 0.15);\n",
       "      fill: #174EA6;\n",
       "    }\n",
       "\n",
       "    .colab-df-buttons div {\n",
       "      margin-bottom: 4px;\n",
       "    }\n",
       "\n",
       "    [theme=dark] .colab-df-convert {\n",
       "      background-color: #3B4455;\n",
       "      fill: #D2E3FC;\n",
       "    }\n",
       "\n",
       "    [theme=dark] .colab-df-convert:hover {\n",
       "      background-color: #434B5C;\n",
       "      box-shadow: 0px 1px 3px 1px rgba(0, 0, 0, 0.15);\n",
       "      filter: drop-shadow(0px 1px 2px rgba(0, 0, 0, 0.3));\n",
       "      fill: #FFFFFF;\n",
       "    }\n",
       "  </style>\n",
       "\n",
       "    <script>\n",
       "      const buttonEl =\n",
       "        document.querySelector('#df-378bdbbb-11ae-4f1d-8ce7-1b219292a079 button.colab-df-convert');\n",
       "      buttonEl.style.display =\n",
       "        google.colab.kernel.accessAllowed ? 'block' : 'none';\n",
       "\n",
       "      async function convertToInteractive(key) {\n",
       "        const element = document.querySelector('#df-378bdbbb-11ae-4f1d-8ce7-1b219292a079');\n",
       "        const dataTable =\n",
       "          await google.colab.kernel.invokeFunction('convertToInteractive',\n",
       "                                                    [key], {});\n",
       "        if (!dataTable) return;\n",
       "\n",
       "        const docLinkHtml = 'Like what you see? Visit the ' +\n",
       "          '<a target=\"_blank\" href=https://colab.research.google.com/notebooks/data_table.ipynb>data table notebook</a>'\n",
       "          + ' to learn more about interactive tables.';\n",
       "        element.innerHTML = '';\n",
       "        dataTable['output_type'] = 'display_data';\n",
       "        await google.colab.output.renderOutput(dataTable, element);\n",
       "        const docLink = document.createElement('div');\n",
       "        docLink.innerHTML = docLinkHtml;\n",
       "        element.appendChild(docLink);\n",
       "      }\n",
       "    </script>\n",
       "  </div>\n",
       "\n",
       "\n",
       "<div id=\"df-14e020dc-4a28-4154-adb7-c7573961a405\">\n",
       "  <button class=\"colab-df-quickchart\" onclick=\"quickchart('df-14e020dc-4a28-4154-adb7-c7573961a405')\"\n",
       "            title=\"Suggest charts\"\n",
       "            style=\"display:none;\">\n",
       "\n",
       "<svg xmlns=\"http://www.w3.org/2000/svg\" height=\"24px\"viewBox=\"0 0 24 24\"\n",
       "     width=\"24px\">\n",
       "    <g>\n",
       "        <path d=\"M19 3H5c-1.1 0-2 .9-2 2v14c0 1.1.9 2 2 2h14c1.1 0 2-.9 2-2V5c0-1.1-.9-2-2-2zM9 17H7v-7h2v7zm4 0h-2V7h2v10zm4 0h-2v-4h2v4z\"/>\n",
       "    </g>\n",
       "</svg>\n",
       "  </button>\n",
       "\n",
       "<style>\n",
       "  .colab-df-quickchart {\n",
       "      --bg-color: #E8F0FE;\n",
       "      --fill-color: #1967D2;\n",
       "      --hover-bg-color: #E2EBFA;\n",
       "      --hover-fill-color: #174EA6;\n",
       "      --disabled-fill-color: #AAA;\n",
       "      --disabled-bg-color: #DDD;\n",
       "  }\n",
       "\n",
       "  [theme=dark] .colab-df-quickchart {\n",
       "      --bg-color: #3B4455;\n",
       "      --fill-color: #D2E3FC;\n",
       "      --hover-bg-color: #434B5C;\n",
       "      --hover-fill-color: #FFFFFF;\n",
       "      --disabled-bg-color: #3B4455;\n",
       "      --disabled-fill-color: #666;\n",
       "  }\n",
       "\n",
       "  .colab-df-quickchart {\n",
       "    background-color: var(--bg-color);\n",
       "    border: none;\n",
       "    border-radius: 50%;\n",
       "    cursor: pointer;\n",
       "    display: none;\n",
       "    fill: var(--fill-color);\n",
       "    height: 32px;\n",
       "    padding: 0;\n",
       "    width: 32px;\n",
       "  }\n",
       "\n",
       "  .colab-df-quickchart:hover {\n",
       "    background-color: var(--hover-bg-color);\n",
       "    box-shadow: 0 1px 2px rgba(60, 64, 67, 0.3), 0 1px 3px 1px rgba(60, 64, 67, 0.15);\n",
       "    fill: var(--button-hover-fill-color);\n",
       "  }\n",
       "\n",
       "  .colab-df-quickchart-complete:disabled,\n",
       "  .colab-df-quickchart-complete:disabled:hover {\n",
       "    background-color: var(--disabled-bg-color);\n",
       "    fill: var(--disabled-fill-color);\n",
       "    box-shadow: none;\n",
       "  }\n",
       "\n",
       "  .colab-df-spinner {\n",
       "    border: 2px solid var(--fill-color);\n",
       "    border-color: transparent;\n",
       "    border-bottom-color: var(--fill-color);\n",
       "    animation:\n",
       "      spin 1s steps(1) infinite;\n",
       "  }\n",
       "\n",
       "  @keyframes spin {\n",
       "    0% {\n",
       "      border-color: transparent;\n",
       "      border-bottom-color: var(--fill-color);\n",
       "      border-left-color: var(--fill-color);\n",
       "    }\n",
       "    20% {\n",
       "      border-color: transparent;\n",
       "      border-left-color: var(--fill-color);\n",
       "      border-top-color: var(--fill-color);\n",
       "    }\n",
       "    30% {\n",
       "      border-color: transparent;\n",
       "      border-left-color: var(--fill-color);\n",
       "      border-top-color: var(--fill-color);\n",
       "      border-right-color: var(--fill-color);\n",
       "    }\n",
       "    40% {\n",
       "      border-color: transparent;\n",
       "      border-right-color: var(--fill-color);\n",
       "      border-top-color: var(--fill-color);\n",
       "    }\n",
       "    60% {\n",
       "      border-color: transparent;\n",
       "      border-right-color: var(--fill-color);\n",
       "    }\n",
       "    80% {\n",
       "      border-color: transparent;\n",
       "      border-right-color: var(--fill-color);\n",
       "      border-bottom-color: var(--fill-color);\n",
       "    }\n",
       "    90% {\n",
       "      border-color: transparent;\n",
       "      border-bottom-color: var(--fill-color);\n",
       "    }\n",
       "  }\n",
       "</style>\n",
       "\n",
       "  <script>\n",
       "    async function quickchart(key) {\n",
       "      const quickchartButtonEl =\n",
       "        document.querySelector('#' + key + ' button');\n",
       "      quickchartButtonEl.disabled = true;  // To prevent multiple clicks.\n",
       "      quickchartButtonEl.classList.add('colab-df-spinner');\n",
       "      try {\n",
       "        const charts = await google.colab.kernel.invokeFunction(\n",
       "            'suggestCharts', [key], {});\n",
       "      } catch (error) {\n",
       "        console.error('Error during call to suggestCharts:', error);\n",
       "      }\n",
       "      quickchartButtonEl.classList.remove('colab-df-spinner');\n",
       "      quickchartButtonEl.classList.add('colab-df-quickchart-complete');\n",
       "    }\n",
       "    (() => {\n",
       "      let quickchartButtonEl =\n",
       "        document.querySelector('#df-14e020dc-4a28-4154-adb7-c7573961a405 button');\n",
       "      quickchartButtonEl.style.display =\n",
       "        google.colab.kernel.accessAllowed ? 'block' : 'none';\n",
       "    })();\n",
       "  </script>\n",
       "</div>\n",
       "    </div>\n",
       "  </div>\n"
      ],
      "text/plain": [
       "           Date        Open        High         Low       Close   Adj Close  \\\n",
       "0    2012-01-03   16.262545   16.641375   16.248346   16.573130   16.573130   \n",
       "1    2012-01-04   16.563665   16.693678   16.453827   16.644611   16.644611   \n",
       "2    2012-01-05   16.491436   16.537264   16.344486   16.413727   16.413727   \n",
       "3    2012-01-06   16.417213   16.438385   16.184088   16.189817   16.189817   \n",
       "4    2012-01-09   16.102144   16.114599   15.472754   15.503389   15.503389   \n",
       "...         ...         ...         ...         ...         ...         ...   \n",
       "2982 2023-11-08  132.360001  133.539993  132.160004  133.259995  133.259995   \n",
       "2983 2023-11-09  133.360001  133.960007  131.509995  131.690002  131.690002   \n",
       "2984 2023-11-10  131.529999  134.270004  130.869995  134.059998  134.059998   \n",
       "2985 2023-11-13  133.360001  134.110001  132.770004  133.639999  133.639999   \n",
       "2986 2023-11-14  135.649994  137.240005  135.100006  135.429993  135.429993   \n",
       "\n",
       "         Volume  \n",
       "0     147611217  \n",
       "1     114989399  \n",
       "2     131808205  \n",
       "3     108119746  \n",
       "4     233776981  \n",
       "...         ...  \n",
       "2982   15093600  \n",
       "2983   17976500  \n",
       "2984   20872900  \n",
       "2985   16409900  \n",
       "2986   22317300  \n",
       "\n",
       "[2987 rows x 7 columns]"
      ]
     },
     "execution_count": 43,
     "metadata": {},
     "output_type": "execute_result"
    }
   ],
   "source": [
    "df"
   ]
  },
  {
   "cell_type": "code",
   "execution_count": 44,
   "metadata": {
    "colab": {
     "base_uri": "https://localhost:8080/",
     "height": 636
    },
    "executionInfo": {
     "elapsed": 1099,
     "status": "ok",
     "timestamp": 1701670592754,
     "user": {
      "displayName": "Abhishek Bajpai",
      "userId": "11088130130870770770"
     },
     "user_tz": -330
    },
    "id": "xTW82cXPS5tC",
    "outputId": "9dca39bf-1b2c-45a6-8a33-892bd64493cc"
   },
   "outputs": [
    {
     "data": {
      "text/plain": [
       "[<matplotlib.lines.Line2D at 0x7a7c789b78e0>]"
      ]
     },
     "execution_count": 44,
     "metadata": {},
     "output_type": "execute_result"
    },
    {
     "data": {
      "image/png": "[encoded data removed]",
      "text/plain": [
       "<Figure size 1500x800 with 1 Axes>"
      ]
     },
     "metadata": {},
     "output_type": "display_data"
    }
   ],
   "source": [
    "plt.figure(figsize=(15,8))\n",
    "plt.plot(df['Close'], label = 'Closing Price')"
   ]
  },
  {
   "cell_type": "markdown",
   "metadata": {
    "id": "7I_mwmNhhVqX"
   },
   "source": [
    "Classification problem : Buy (+1) or sell (-1) the stock"
   ]
  },
  {
   "cell_type": "code",
   "execution_count": 45,
   "metadata": {
    "executionInfo": {
     "elapsed": 743,
     "status": "ok",
     "timestamp": 1701670599196,
     "user": {
      "displayName": "Abhishek Bajpai",
      "userId": "11088130130870770770"
     },
     "user_tz": -330
    },
    "id": "PDMIjL8icSR3"
   },
   "outputs": [],
   "source": [
    "df['Open - Close'] = df['Open'] - df['Close']\n",
    "df['High - Low'] = df['High'] - df['Low']\n",
    "df = df.dropna()"
   ]
  },
  {
   "cell_type": "markdown",
   "metadata": {
    "id": "s4LKVtgXftVt"
   },
   "source": [
    "Input Festures to Predict wheather customer should Buy or Sell the Stock."
   ]
  },
  {
   "cell_type": "code",
   "execution_count": 46,
   "metadata": {
    "colab": {
     "base_uri": "https://localhost:8080/",
     "height": 245
    },
    "executionInfo": {
     "elapsed": 8,
     "status": "ok",
     "timestamp": 1701670602809,
     "user": {
      "displayName": "Abhishek Bajpai",
      "userId": "11088130130870770770"
     },
     "user_tz": -330
    },
    "id": "l24B4YAPe0BQ",
    "outputId": "5f3f51e8-786c-4807-ef99-bd6bea0d8628"
   },
   "outputs": [
    {
     "data": {
      "text/html": [
       "\n",
       "  <div id=\"df-9c4d24b0-0f6d-4a06-a9d0-7c3b41744b52\" class=\"colab-df-container\">\n",
       "    <div>\n",
       "<style scoped>\n",
       "    .dataframe tbody tr th:only-of-type {\n",
       "        vertical-align: middle;\n",
       "    }\n",
       "\n",
       "    .dataframe tbody tr th {\n",
       "        vertical-align: top;\n",
       "    }\n",
       "\n",
       "    .dataframe thead th {\n",
       "        text-align: right;\n",
       "    }\n",
       "</style>\n",
       "<table border=\"1\" class=\"dataframe\">\n",
       "  <thead>\n",
       "    <tr style=\"text-align: right;\">\n",
       "      <th></th>\n",
       "      <th>Open - Close</th>\n",
       "      <th>High - Low</th>\n",
       "    </tr>\n",
       "  </thead>\n",
       "  <tbody>\n",
       "    <tr>\n",
       "      <th>0</th>\n",
       "      <td>-0.310585</td>\n",
       "      <td>0.393028</td>\n",
       "    </tr>\n",
       "    <tr>\n",
       "      <th>1</th>\n",
       "      <td>-0.080946</td>\n",
       "      <td>0.239851</td>\n",
       "    </tr>\n",
       "    <tr>\n",
       "      <th>2</th>\n",
       "      <td>0.077709</td>\n",
       "      <td>0.192778</td>\n",
       "    </tr>\n",
       "    <tr>\n",
       "      <th>3</th>\n",
       "      <td>0.227396</td>\n",
       "      <td>0.254297</td>\n",
       "    </tr>\n",
       "    <tr>\n",
       "      <th>4</th>\n",
       "      <td>0.598755</td>\n",
       "      <td>0.641846</td>\n",
       "    </tr>\n",
       "  </tbody>\n",
       "</table>\n",
       "</div>\n",
       "    <div class=\"colab-df-buttons\">\n",
       "\n",
       "  <div class=\"colab-df-container\">\n",
       "    <button class=\"colab-df-convert\" onclick=\"convertToInteractive('df-9c4d24b0-0f6d-4a06-a9d0-7c3b41744b52')\"\n",
       "            title=\"Convert this dataframe to an interactive table.\"\n",
       "            style=\"display:none;\">\n",
       "\n",
       "  <svg xmlns=\"http://www.w3.org/2000/svg\" height=\"24px\" viewBox=\"0 -960 960 960\">\n",
       "    <path d=\"M120-120v-720h720v720H120Zm60-500h600v-160H180v160Zm220 220h160v-160H400v160Zm0 220h160v-160H400v160ZM180-400h160v-160H180v160Zm440 0h160v-160H620v160ZM180-180h160v-160H180v160Zm440 0h160v-160H620v160Z\"/>\n",
       "  </svg>\n",
       "    </button>\n",
       "\n",
       "  <style>\n",
       "    .colab-df-container {\n",
       "      display:flex;\n",
       "      gap: 12px;\n",
       "    }\n",
       "\n",
       "    .colab-df-convert {\n",
       "      background-color: #E8F0FE;\n",
       "      border: none;\n",
       "      border-radius: 50%;\n",
       "      cursor: pointer;\n",
       "      display: none;\n",
       "      fill: #1967D2;\n",
       "      height: 32px;\n",
       "      padding: 0 0 0 0;\n",
       "      width: 32px;\n",
       "    }\n",
       "\n",
       "    .colab-df-convert:hover {\n",
       "      background-color: #E2EBFA;\n",
       "      box-shadow: 0px 1px 2px rgba(60, 64, 67, 0.3), 0px 1px 3px 1px rgba(60, 64, 67, 0.15);\n",
       "      fill: #174EA6;\n",
       "    }\n",
       "\n",
       "    .colab-df-buttons div {\n",
       "      margin-bottom: 4px;\n",
       "    }\n",
       "\n",
       "    [theme=dark] .colab-df-convert {\n",
       "      background-color: #3B4455;\n",
       "      fill: #D2E3FC;\n",
       "    }\n",
       "\n",
       "    [theme=dark] .colab-df-convert:hover {\n",
       "      background-color: #434B5C;\n",
       "      box-shadow: 0px 1px 3px 1px rgba(0, 0, 0, 0.15);\n",
       "      filter: drop-shadow(0px 1px 2px rgba(0, 0, 0, 0.3));\n",
       "      fill: #FFFFFF;\n",
       "    }\n",
       "  </style>\n",
       "\n",
       "    <script>\n",
       "      const buttonEl =\n",
       "        document.querySelector('#df-9c4d24b0-0f6d-4a06-a9d0-7c3b41744b52 button.colab-df-convert');\n",
       "      buttonEl.style.display =\n",
       "        google.colab.kernel.accessAllowed ? 'block' : 'none';\n",
       "\n",
       "      async function convertToInteractive(key) {\n",
       "        const element = document.querySelector('#df-9c4d24b0-0f6d-4a06-a9d0-7c3b41744b52');\n",
       "        const dataTable =\n",
       "          await google.colab.kernel.invokeFunction('convertToInteractive',\n",
       "                                                    [key], {});\n",
       "        if (!dataTable) return;\n",
       "\n",
       "        const docLinkHtml = 'Like what you see? Visit the ' +\n",
       "          '<a target=\"_blank\" href=https://colab.research.google.com/notebooks/data_table.ipynb>data table notebook</a>'\n",
       "          + ' to learn more about interactive tables.';\n",
       "        element.innerHTML = '';\n",
       "        dataTable['output_type'] = 'display_data';\n",
       "        await google.colab.output.renderOutput(dataTable, element);\n",
       "        const docLink = document.createElement('div');\n",
       "        docLink.innerHTML = docLinkHtml;\n",
       "        element.appendChild(docLink);\n",
       "      }\n",
       "    </script>\n",
       "  </div>\n",
       "\n",
       "\n",
       "<div id=\"df-cdc228b4-c110-4872-8199-723a7a6c92f8\">\n",
       "  <button class=\"colab-df-quickchart\" onclick=\"quickchart('df-cdc228b4-c110-4872-8199-723a7a6c92f8')\"\n",
       "            title=\"Suggest charts\"\n",
       "            style=\"display:none;\">\n",
       "\n",
       "<svg xmlns=\"http://www.w3.org/2000/svg\" height=\"24px\"viewBox=\"0 0 24 24\"\n",
       "     width=\"24px\">\n",
       "    <g>\n",
       "        <path d=\"M19 3H5c-1.1 0-2 .9-2 2v14c0 1.1.9 2 2 2h14c1.1 0 2-.9 2-2V5c0-1.1-.9-2-2-2zM9 17H7v-7h2v7zm4 0h-2V7h2v10zm4 0h-2v-4h2v4z\"/>\n",
       "    </g>\n",
       "</svg>\n",
       "  </button>\n",
       "\n",
       "<style>\n",
       "  .colab-df-quickchart {\n",
       "      --bg-color: #E8F0FE;\n",
       "      --fill-color: #1967D2;\n",
       "      --hover-bg-color: #E2EBFA;\n",
       "      --hover-fill-color: #174EA6;\n",
       "      --disabled-fill-color: #AAA;\n",
       "      --disabled-bg-color: #DDD;\n",
       "  }\n",
       "\n",
       "  [theme=dark] .colab-df-quickchart {\n",
       "      --bg-color: #3B4455;\n",
       "      --fill-color: #D2E3FC;\n",
       "      --hover-bg-color: #434B5C;\n",
       "      --hover-fill-color: #FFFFFF;\n",
       "      --disabled-bg-color: #3B4455;\n",
       "      --disabled-fill-color: #666;\n",
       "  }\n",
       "\n",
       "  .colab-df-quickchart {\n",
       "    background-color: var(--bg-color);\n",
       "    border: none;\n",
       "    border-radius: 50%;\n",
       "    cursor: pointer;\n",
       "    display: none;\n",
       "    fill: var(--fill-color);\n",
       "    height: 32px;\n",
       "    padding: 0;\n",
       "    width: 32px;\n",
       "  }\n",
       "\n",
       "  .colab-df-quickchart:hover {\n",
       "    background-color: var(--hover-bg-color);\n",
       "    box-shadow: 0 1px 2px rgba(60, 64, 67, 0.3), 0 1px 3px 1px rgba(60, 64, 67, 0.15);\n",
       "    fill: var(--button-hover-fill-color);\n",
       "  }\n",
       "\n",
       "  .colab-df-quickchart-complete:disabled,\n",
       "  .colab-df-quickchart-complete:disabled:hover {\n",
       "    background-color: var(--disabled-bg-color);\n",
       "    fill: var(--disabled-fill-color);\n",
       "    box-shadow: none;\n",
       "  }\n",
       "\n",
       "  .colab-df-spinner {\n",
       "    border: 2px solid var(--fill-color);\n",
       "    border-color: transparent;\n",
       "    border-bottom-color: var(--fill-color);\n",
       "    animation:\n",
       "      spin 1s steps(1) infinite;\n",
       "  }\n",
       "\n",
       "  @keyframes spin {\n",
       "    0% {\n",
       "      border-color: transparent;\n",
       "      border-bottom-color: var(--fill-color);\n",
       "      border-left-color: var(--fill-color);\n",
       "    }\n",
       "    20% {\n",
       "      border-color: transparent;\n",
       "      border-left-color: var(--fill-color);\n",
       "      border-top-color: var(--fill-color);\n",
       "    }\n",
       "    30% {\n",
       "      border-color: transparent;\n",
       "      border-left-color: var(--fill-color);\n",
       "      border-top-color: var(--fill-color);\n",
       "      border-right-color: var(--fill-color);\n",
       "    }\n",
       "    40% {\n",
       "      border-color: transparent;\n",
       "      border-right-color: var(--fill-color);\n",
       "      border-top-color: var(--fill-color);\n",
       "    }\n",
       "    60% {\n",
       "      border-color: transparent;\n",
       "      border-right-color: var(--fill-color);\n",
       "    }\n",
       "    80% {\n",
       "      border-color: transparent;\n",
       "      border-right-color: var(--fill-color);\n",
       "      border-bottom-color: var(--fill-color);\n",
       "    }\n",
       "    90% {\n",
       "      border-color: transparent;\n",
       "      border-bottom-color: var(--fill-color);\n",
       "    }\n",
       "  }\n",
       "</style>\n",
       "\n",
       "  <script>\n",
       "    async function quickchart(key) {\n",
       "      const quickchartButtonEl =\n",
       "        document.querySelector('#' + key + ' button');\n",
       "      quickchartButtonEl.disabled = true;  // To prevent multiple clicks.\n",
       "      quickchartButtonEl.classList.add('colab-df-spinner');\n",
       "      try {\n",
       "        const charts = await google.colab.kernel.invokeFunction(\n",
       "            'suggestCharts', [key], {});\n",
       "      } catch (error) {\n",
       "        console.error('Error during call to suggestCharts:', error);\n",
       "      }\n",
       "      quickchartButtonEl.classList.remove('colab-df-spinner');\n",
       "      quickchartButtonEl.classList.add('colab-df-quickchart-complete');\n",
       "    }\n",
       "    (() => {\n",
       "      let quickchartButtonEl =\n",
       "        document.querySelector('#df-cdc228b4-c110-4872-8199-723a7a6c92f8 button');\n",
       "      quickchartButtonEl.style.display =\n",
       "        google.colab.kernel.accessAllowed ? 'block' : 'none';\n",
       "    })();\n",
       "  </script>\n",
       "</div>\n",
       "    </div>\n",
       "  </div>\n"
      ],
      "text/plain": [
       "   Open - Close  High - Low\n",
       "0     -0.310585    0.393028\n",
       "1     -0.080946    0.239851\n",
       "2      0.077709    0.192778\n",
       "3      0.227396    0.254297\n",
       "4      0.598755    0.641846"
      ]
     },
     "execution_count": 46,
     "metadata": {},
     "output_type": "execute_result"
    }
   ],
   "source": [
    "X = df[['Open - Close', 'High - Low']]\n",
    "X.head()"
   ]
  },
  {
   "cell_type": "markdown",
   "metadata": {
    "id": "7FJ_FZAygPdy"
   },
   "source": [
    "Intention is to share +1 for buy signal and -1 for the sell signal. The target Varialble is \"Y\"for the classification test."
   ]
  },
  {
   "cell_type": "code",
   "execution_count": 47,
   "metadata": {
    "executionInfo": {
     "elapsed": 573,
     "status": "ok",
     "timestamp": 1701670617863,
     "user": {
      "displayName": "Abhishek Bajpai",
      "userId": "11088130130870770770"
     },
     "user_tz": -330
    },
    "id": "Hvd1Bq-wgpF6"
   },
   "outputs": [],
   "source": [
    "Y= np.where(df['Close'].shift(-1)>df['Close'],1,-1)"
   ]
  },
  {
   "cell_type": "code",
   "execution_count": 48,
   "metadata": {
    "colab": {
     "base_uri": "https://localhost:8080/"
    },
    "executionInfo": {
     "elapsed": 4,
     "status": "ok",
     "timestamp": 1701670620910,
     "user": {
      "displayName": "Abhishek Bajpai",
      "userId": "11088130130870770770"
     },
     "user_tz": -330
    },
    "id": "n2jpRFI4hD3o",
    "outputId": "81f704df-35cc-4fc8-ede4-e18f8139554f"
   },
   "outputs": [
    {
     "data": {
      "text/plain": [
       "array([ 1, -1, -1, ..., -1,  1, -1])"
      ]
     },
     "execution_count": 48,
     "metadata": {},
     "output_type": "execute_result"
    }
   ],
   "source": [
    "Y"
   ]
  },
  {
   "cell_type": "code",
   "execution_count": 49,
   "metadata": {
    "executionInfo": {
     "elapsed": 2,
     "status": "ok",
     "timestamp": 1701670624514,
     "user": {
      "displayName": "Abhishek Bajpai",
      "userId": "11088130130870770770"
     },
     "user_tz": -330
    },
    "id": "j00ppbnliCpx"
   },
   "outputs": [],
   "source": [
    "from sklearn.model_selection import train_test_split\n",
    "X_train, X_test, y_train, y_test = train_test_split(X, Y, test_size=0.25, random_state = 44)"
   ]
  },
  {
   "cell_type": "markdown",
   "metadata": {
    "id": "xd6OKc2KitbO"
   },
   "source": [
    "Implementation KNN Classifier"
   ]
  },
  {
   "cell_type": "code",
   "execution_count": 50,
   "metadata": {
    "colab": {
     "base_uri": "https://localhost:8080/"
    },
    "executionInfo": {
     "elapsed": 2018,
     "status": "ok",
     "timestamp": 1701670629718,
     "user": {
      "displayName": "Abhishek Bajpai",
      "userId": "11088130130870770770"
     },
     "user_tz": -330
    },
    "id": "OtTZV7ODizYe",
    "outputId": "3314dec6-087e-4e9b-a5ae-b066c1a3d05c"
   },
   "outputs": [
    {
     "name": "stdout",
     "output_type": "stream",
     "text": [
      "Train_data Accuracy: 0.66\n",
      "Test_data Accuracy: 0.49\n"
     ]
    }
   ],
   "source": [
    "from sklearn.neighbors import KNeighborsClassifier\n",
    "from sklearn import neighbors\n",
    "from sklearn.model_selection import GridSearchCV\n",
    "from sklearn.metrics import accuracy_score\n",
    "\n",
    "#using  gridsearch to find the best parameter\n",
    "params = {'n_neighbors': [2,3,4,5,6,7,8,9,10,11,12,13,14,15]}\n",
    "knn = neighbors.KNeighborsClassifier()\n",
    "model = GridSearchCV(knn, params, cv=5)\n",
    "\n",
    "# fit the model\n",
    "model.fit(X_train, y_train)\n",
    "\n",
    "# Accuracy Score\n",
    "accuracy_train = accuracy_score(y_train, model.predict(X_train))\n",
    "accuracy_test = accuracy_score(y_test, model.predict(X_test))\n",
    "\n",
    "print('Train_data Accuracy: %.2f' %accuracy_train)\n",
    "print('Test_data Accuracy: %.2f' %accuracy_test)"
   ]
  },
  {
   "cell_type": "code",
   "execution_count": 51,
   "metadata": {
    "executionInfo": {
     "elapsed": 479,
     "status": "ok",
     "timestamp": 1701670634461,
     "user": {
      "displayName": "Abhishek Bajpai",
      "userId": "11088130130870770770"
     },
     "user_tz": -330
    },
    "id": "KM3XzUPQ_8HS"
   },
   "outputs": [],
   "source": [
    "predictions_classification = model.predict(X_test)"
   ]
  },
  {
   "cell_type": "code",
   "execution_count": 52,
   "metadata": {
    "executionInfo": {
     "elapsed": 3,
     "status": "ok",
     "timestamp": 1701670636115,
     "user": {
      "displayName": "Abhishek Bajpai",
      "userId": "11088130130870770770"
     },
     "user_tz": -330
    },
    "id": "7I1mF3xpp2S9"
   },
   "outputs": [],
   "source": [
    "actual_predicted_data = pd.DataFrame({'Actual Class': y_test, 'Predicted Class':predictions_classification})"
   ]
  },
  {
   "cell_type": "code",
   "execution_count": 53,
   "metadata": {
    "colab": {
     "base_uri": "https://localhost:8080/",
     "height": 363
    },
    "executionInfo": {
     "elapsed": 4,
     "status": "ok",
     "timestamp": 1701670638749,
     "user": {
      "displayName": "Abhishek Bajpai",
      "userId": "11088130130870770770"
     },
     "user_tz": -330
    },
    "id": "EZBacgQTp7bk",
    "outputId": "70a57c5f-b3e3-4aca-af2a-e830606c77c8"
   },
   "outputs": [
    {
     "data": {
      "text/html": [
       "\n",
       "  <div id=\"df-66c3d2f5-57fa-4f08-9c34-926344b01f2f\" class=\"colab-df-container\">\n",
       "    <div>\n",
       "<style scoped>\n",
       "    .dataframe tbody tr th:only-of-type {\n",
       "        vertical-align: middle;\n",
       "    }\n",
       "\n",
       "    .dataframe tbody tr th {\n",
       "        vertical-align: top;\n",
       "    }\n",
       "\n",
       "    .dataframe thead th {\n",
       "        text-align: right;\n",
       "    }\n",
       "</style>\n",
       "<table border=\"1\" class=\"dataframe\">\n",
       "  <thead>\n",
       "    <tr style=\"text-align: right;\">\n",
       "      <th></th>\n",
       "      <th>Actual Class</th>\n",
       "      <th>Predicted Class</th>\n",
       "    </tr>\n",
       "  </thead>\n",
       "  <tbody>\n",
       "    <tr>\n",
       "      <th>0</th>\n",
       "      <td>-1</td>\n",
       "      <td>1</td>\n",
       "    </tr>\n",
       "    <tr>\n",
       "      <th>1</th>\n",
       "      <td>1</td>\n",
       "      <td>1</td>\n",
       "    </tr>\n",
       "    <tr>\n",
       "      <th>2</th>\n",
       "      <td>-1</td>\n",
       "      <td>-1</td>\n",
       "    </tr>\n",
       "    <tr>\n",
       "      <th>3</th>\n",
       "      <td>1</td>\n",
       "      <td>-1</td>\n",
       "    </tr>\n",
       "    <tr>\n",
       "      <th>4</th>\n",
       "      <td>-1</td>\n",
       "      <td>1</td>\n",
       "    </tr>\n",
       "    <tr>\n",
       "      <th>5</th>\n",
       "      <td>-1</td>\n",
       "      <td>-1</td>\n",
       "    </tr>\n",
       "    <tr>\n",
       "      <th>6</th>\n",
       "      <td>1</td>\n",
       "      <td>1</td>\n",
       "    </tr>\n",
       "    <tr>\n",
       "      <th>7</th>\n",
       "      <td>1</td>\n",
       "      <td>-1</td>\n",
       "    </tr>\n",
       "    <tr>\n",
       "      <th>8</th>\n",
       "      <td>1</td>\n",
       "      <td>1</td>\n",
       "    </tr>\n",
       "    <tr>\n",
       "      <th>9</th>\n",
       "      <td>1</td>\n",
       "      <td>-1</td>\n",
       "    </tr>\n",
       "  </tbody>\n",
       "</table>\n",
       "</div>\n",
       "    <div class=\"colab-df-buttons\">\n",
       "\n",
       "  <div class=\"colab-df-container\">\n",
       "    <button class=\"colab-df-convert\" onclick=\"convertToInteractive('df-66c3d2f5-57fa-4f08-9c34-926344b01f2f')\"\n",
       "            title=\"Convert this dataframe to an interactive table.\"\n",
       "            style=\"display:none;\">\n",
       "\n",
       "  <svg xmlns=\"http://www.w3.org/2000/svg\" height=\"24px\" viewBox=\"0 -960 960 960\">\n",
       "    <path d=\"M120-120v-720h720v720H120Zm60-500h600v-160H180v160Zm220 220h160v-160H400v160Zm0 220h160v-160H400v160ZM180-400h160v-160H180v160Zm440 0h160v-160H620v160ZM180-180h160v-160H180v160Zm440 0h160v-160H620v160Z\"/>\n",
       "  </svg>\n",
       "    </button>\n",
       "\n",
       "  <style>\n",
       "    .colab-df-container {\n",
       "      display:flex;\n",
       "      gap: 12px;\n",
       "    }\n",
       "\n",
       "    .colab-df-convert {\n",
       "      background-color: #E8F0FE;\n",
       "      border: none;\n",
       "      border-radius: 50%;\n",
       "      cursor: pointer;\n",
       "      display: none;\n",
       "      fill: #1967D2;\n",
       "      height: 32px;\n",
       "      padding: 0 0 0 0;\n",
       "      width: 32px;\n",
       "    }\n",
       "\n",
       "    .colab-df-convert:hover {\n",
       "      background-color: #E2EBFA;\n",
       "      box-shadow: 0px 1px 2px rgba(60, 64, 67, 0.3), 0px 1px 3px 1px rgba(60, 64, 67, 0.15);\n",
       "      fill: #174EA6;\n",
       "    }\n",
       "\n",
       "    .colab-df-buttons div {\n",
       "      margin-bottom: 4px;\n",
       "    }\n",
       "\n",
       "    [theme=dark] .colab-df-convert {\n",
       "      background-color: #3B4455;\n",
       "      fill: #D2E3FC;\n",
       "    }\n",
       "\n",
       "    [theme=dark] .colab-df-convert:hover {\n",
       "      background-color: #434B5C;\n",
       "      box-shadow: 0px 1px 3px 1px rgba(0, 0, 0, 0.15);\n",
       "      filter: drop-shadow(0px 1px 2px rgba(0, 0, 0, 0.3));\n",
       "      fill: #FFFFFF;\n",
       "    }\n",
       "  </style>\n",
       "\n",
       "    <script>\n",
       "      const buttonEl =\n",
       "        document.querySelector('#df-66c3d2f5-57fa-4f08-9c34-926344b01f2f button.colab-df-convert');\n",
       "      buttonEl.style.display =\n",
       "        google.colab.kernel.accessAllowed ? 'block' : 'none';\n",
       "\n",
       "      async function convertToInteractive(key) {\n",
       "        const element = document.querySelector('#df-66c3d2f5-57fa-4f08-9c34-926344b01f2f');\n",
       "        const dataTable =\n",
       "          await google.colab.kernel.invokeFunction('convertToInteractive',\n",
       "                                                    [key], {});\n",
       "        if (!dataTable) return;\n",
       "\n",
       "        const docLinkHtml = 'Like what you see? Visit the ' +\n",
       "          '<a target=\"_blank\" href=https://colab.research.google.com/notebooks/data_table.ipynb>data table notebook</a>'\n",
       "          + ' to learn more about interactive tables.';\n",
       "        element.innerHTML = '';\n",
       "        dataTable['output_type'] = 'display_data';\n",
       "        await google.colab.output.renderOutput(dataTable, element);\n",
       "        const docLink = document.createElement('div');\n",
       "        docLink.innerHTML = docLinkHtml;\n",
       "        element.appendChild(docLink);\n",
       "      }\n",
       "    </script>\n",
       "  </div>\n",
       "\n",
       "\n",
       "<div id=\"df-db7b3777-e030-4901-b0f2-0a9f769e453a\">\n",
       "  <button class=\"colab-df-quickchart\" onclick=\"quickchart('df-db7b3777-e030-4901-b0f2-0a9f769e453a')\"\n",
       "            title=\"Suggest charts\"\n",
       "            style=\"display:none;\">\n",
       "\n",
       "<svg xmlns=\"http://www.w3.org/2000/svg\" height=\"24px\"viewBox=\"0 0 24 24\"\n",
       "     width=\"24px\">\n",
       "    <g>\n",
       "        <path d=\"M19 3H5c-1.1 0-2 .9-2 2v14c0 1.1.9 2 2 2h14c1.1 0 2-.9 2-2V5c0-1.1-.9-2-2-2zM9 17H7v-7h2v7zm4 0h-2V7h2v10zm4 0h-2v-4h2v4z\"/>\n",
       "    </g>\n",
       "</svg>\n",
       "  </button>\n",
       "\n",
       "<style>\n",
       "  .colab-df-quickchart {\n",
       "      --bg-color: #E8F0FE;\n",
       "      --fill-color: #1967D2;\n",
       "      --hover-bg-color: #E2EBFA;\n",
       "      --hover-fill-color: #174EA6;\n",
       "      --disabled-fill-color: #AAA;\n",
       "      --disabled-bg-color: #DDD;\n",
       "  }\n",
       "\n",
       "  [theme=dark] .colab-df-quickchart {\n",
       "      --bg-color: #3B4455;\n",
       "      --fill-color: #D2E3FC;\n",
       "      --hover-bg-color: #434B5C;\n",
       "      --hover-fill-color: #FFFFFF;\n",
       "      --disabled-bg-color: #3B4455;\n",
       "      --disabled-fill-color: #666;\n",
       "  }\n",
       "\n",
       "  .colab-df-quickchart {\n",
       "    background-color: var(--bg-color);\n",
       "    border: none;\n",
       "    border-radius: 50%;\n",
       "    cursor: pointer;\n",
       "    display: none;\n",
       "    fill: var(--fill-color);\n",
       "    height: 32px;\n",
       "    padding: 0;\n",
       "    width: 32px;\n",
       "  }\n",
       "\n",
       "  .colab-df-quickchart:hover {\n",
       "    background-color: var(--hover-bg-color);\n",
       "    box-shadow: 0 1px 2px rgba(60, 64, 67, 0.3), 0 1px 3px 1px rgba(60, 64, 67, 0.15);\n",
       "    fill: var(--button-hover-fill-color);\n",
       "  }\n",
       "\n",
       "  .colab-df-quickchart-complete:disabled,\n",
       "  .colab-df-quickchart-complete:disabled:hover {\n",
       "    background-color: var(--disabled-bg-color);\n",
       "    fill: var(--disabled-fill-color);\n",
       "    box-shadow: none;\n",
       "  }\n",
       "\n",
       "  .colab-df-spinner {\n",
       "    border: 2px solid var(--fill-color);\n",
       "    border-color: transparent;\n",
       "    border-bottom-color: var(--fill-color);\n",
       "    animation:\n",
       "      spin 1s steps(1) infinite;\n",
       "  }\n",
       "\n",
       "  @keyframes spin {\n",
       "    0% {\n",
       "      border-color: transparent;\n",
       "      border-bottom-color: var(--fill-color);\n",
       "      border-left-color: var(--fill-color);\n",
       "    }\n",
       "    20% {\n",
       "      border-color: transparent;\n",
       "      border-left-color: var(--fill-color);\n",
       "      border-top-color: var(--fill-color);\n",
       "    }\n",
       "    30% {\n",
       "      border-color: transparent;\n",
       "      border-left-color: var(--fill-color);\n",
       "      border-top-color: var(--fill-color);\n",
       "      border-right-color: var(--fill-color);\n",
       "    }\n",
       "    40% {\n",
       "      border-color: transparent;\n",
       "      border-right-color: var(--fill-color);\n",
       "      border-top-color: var(--fill-color);\n",
       "    }\n",
       "    60% {\n",
       "      border-color: transparent;\n",
       "      border-right-color: var(--fill-color);\n",
       "    }\n",
       "    80% {\n",
       "      border-color: transparent;\n",
       "      border-right-color: var(--fill-color);\n",
       "      border-bottom-color: var(--fill-color);\n",
       "    }\n",
       "    90% {\n",
       "      border-color: transparent;\n",
       "      border-bottom-color: var(--fill-color);\n",
       "    }\n",
       "  }\n",
       "</style>\n",
       "\n",
       "  <script>\n",
       "    async function quickchart(key) {\n",
       "      const quickchartButtonEl =\n",
       "        document.querySelector('#' + key + ' button');\n",
       "      quickchartButtonEl.disabled = true;  // To prevent multiple clicks.\n",
       "      quickchartButtonEl.classList.add('colab-df-spinner');\n",
       "      try {\n",
       "        const charts = await google.colab.kernel.invokeFunction(\n",
       "            'suggestCharts', [key], {});\n",
       "      } catch (error) {\n",
       "        console.error('Error during call to suggestCharts:', error);\n",
       "      }\n",
       "      quickchartButtonEl.classList.remove('colab-df-spinner');\n",
       "      quickchartButtonEl.classList.add('colab-df-quickchart-complete');\n",
       "    }\n",
       "    (() => {\n",
       "      let quickchartButtonEl =\n",
       "        document.querySelector('#df-db7b3777-e030-4901-b0f2-0a9f769e453a button');\n",
       "      quickchartButtonEl.style.display =\n",
       "        google.colab.kernel.accessAllowed ? 'block' : 'none';\n",
       "    })();\n",
       "  </script>\n",
       "</div>\n",
       "    </div>\n",
       "  </div>\n"
      ],
      "text/plain": [
       "   Actual Class  Predicted Class\n",
       "0            -1                1\n",
       "1             1                1\n",
       "2            -1               -1\n",
       "3             1               -1\n",
       "4            -1                1\n",
       "5            -1               -1\n",
       "6             1                1\n",
       "7             1               -1\n",
       "8             1                1\n",
       "9             1               -1"
      ]
     },
     "execution_count": 53,
     "metadata": {},
     "output_type": "execute_result"
    }
   ],
   "source": [
    "actual_predicted_data.head(10)"
   ]
  },
  {
   "cell_type": "markdown",
   "metadata": {
    "id": "KZsgsjm5qsuN"
   },
   "source": [
    "Regression Problem : KNN"
   ]
  },
  {
   "cell_type": "code",
   "execution_count": 54,
   "metadata": {
    "executionInfo": {
     "elapsed": 450,
     "status": "ok",
     "timestamp": 1701670663412,
     "user": {
      "displayName": "Abhishek Bajpai",
      "userId": "11088130130870770770"
     },
     "user_tz": -330
    },
    "id": "4pMthOa1_oVW"
   },
   "outputs": [],
   "source": [
    "y = df['Close']"
   ]
  },
  {
   "cell_type": "code",
   "execution_count": 55,
   "metadata": {
    "colab": {
     "base_uri": "https://localhost:8080/"
    },
    "executionInfo": {
     "elapsed": 5,
     "status": "ok",
     "timestamp": 1701670665603,
     "user": {
      "displayName": "Abhishek Bajpai",
      "userId": "11088130130870770770"
     },
     "user_tz": -330
    },
    "id": "gTIT4FQfotC8",
    "outputId": "8c5c74ed-9bab-4342-bc81-bd892c0f4d4d"
   },
   "outputs": [
    {
     "data": {
      "text/plain": [
       "0        16.573130\n",
       "1        16.644611\n",
       "2        16.413727\n",
       "3        16.189817\n",
       "4        15.503389\n",
       "           ...    \n",
       "2982    133.259995\n",
       "2983    131.690002\n",
       "2984    134.059998\n",
       "2985    133.639999\n",
       "2986    135.429993\n",
       "Name: Close, Length: 2987, dtype: float64"
      ]
     },
     "execution_count": 55,
     "metadata": {},
     "output_type": "execute_result"
    }
   ],
   "source": [
    "y"
   ]
  },
  {
   "cell_type": "markdown",
   "metadata": {
    "id": "1BN-SnGFrCNQ"
   },
   "source": [
    "Implementation of KNN Regression"
   ]
  },
  {
   "cell_type": "code",
   "execution_count": 56,
   "metadata": {
    "colab": {
     "base_uri": "https://localhost:8080/"
    },
    "executionInfo": {
     "elapsed": 1025,
     "status": "ok",
     "timestamp": 1701670673095,
     "user": {
      "displayName": "Abhishek Bajpai",
      "userId": "11088130130870770770"
     },
     "user_tz": -330
    },
    "id": "TkYEj9UMq_Im",
    "outputId": "31cf543e-7b81-4b54-d0be-5a26f9b824c7"
   },
   "outputs": [
    {
     "name": "stdout",
     "output_type": "stream",
     "text": [
      "Train_data Accuracy: 0.66\n",
      "Test_data Accuracy: 0.49\n"
     ]
    }
   ],
   "source": [
    "from sklearn.neighbors import KNeighborsRegressor\n",
    "from sklearn import neighbors\n",
    "\n",
    "X_train_reg, X_test_reg, y_train_reg, y_test_reg = train_test_split(X, y, test_size=0.25, random_state=44)\n",
    "\n",
    "#using GridSearch to find the best parameter\n",
    "params = {'n_neighbors':[2,3,4,5,6,7,8,9,10,11,12,13,14,15]}\n",
    "knn_reg = neighbors.KNeighborsRegressor()\n",
    "model_reg = GridSearchCV(knn_reg, params, cv=5)\n",
    "\n",
    "#fit the model and make the predictions\n",
    "model_reg.fit(X_train_reg,y_train_reg)\n",
    "predictions = model_reg.predict(X_test_reg)\n",
    "\n",
    "# Accuracy Score\n",
    "accuracy_train = accuracy_score(y_train, model.predict(X_train))\n",
    "accuracy_test = accuracy_score(y_test, model.predict(X_test))\n",
    "\n",
    "print('Train_data Accuracy: %.2f' %accuracy_train)\n",
    "print('Test_data Accuracy: %.2f' %accuracy_test)"
   ]
  },
  {
   "cell_type": "code",
   "execution_count": 57,
   "metadata": {
    "colab": {
     "base_uri": "https://localhost:8080/"
    },
    "executionInfo": {
     "elapsed": 607,
     "status": "ok",
     "timestamp": 1701670679925,
     "user": {
      "displayName": "Abhishek Bajpai",
      "userId": "11088130130870770770"
     },
     "user_tz": -330
    },
    "id": "e2BP-L5bt8ql",
    "outputId": "17d41bdd-ef06-454b-8250-877f7cae9041"
   },
   "outputs": [
    {
     "name": "stdout",
     "output_type": "stream",
     "text": [
      "[ 96.52732222  28.41057042  29.74783489  42.72910772  23.15604571\n",
      " 119.62907028  39.90051419  99.36003549  77.65871484  19.47553778\n",
      "  78.84571375  21.71388912  97.48917961  33.29445723  44.85443619\n",
      "  40.33784785  90.41421482  26.66196047  83.16274943  30.18944659\n",
      "  20.64474903  27.04354995 104.30567823  26.74372203  70.54324927\n",
      "  87.24725015  41.73608201  34.87032332  22.53425503 107.07960755\n",
      "  43.34226717  47.15512589  31.60322789  30.4376141   46.242739\n",
      "  53.10042477  21.45672785  26.84663541 116.35628482  19.67395735\n",
      "  29.39167111 114.27064296  28.462833   103.69914273  19.5408723\n",
      " 110.63282149  23.56997197  27.39659861  64.33246422  33.60054868\n",
      "  34.91307163 112.31774957  76.58824921  29.48467241  53.25432055\n",
      "  38.50897244  78.45485742  71.08071409 115.52260699  32.77533708\n",
      " 119.32492937  32.21437509 105.50796454  59.63382067  44.3649292\n",
      "  57.21310752  38.57799189  53.72369725  58.06825965  42.45991775\n",
      " 101.35603469 113.95689338  47.82451112  35.264484   115.56024987\n",
      " 102.35884762  21.49369335  24.31782069  92.52196475 112.61746325\n",
      " 101.39035634  84.93346378  27.52023315  51.27082784 111.17235756\n",
      " 106.32771574  63.92700032  32.1486659   32.72427443  20.02457019\n",
      "  82.48710687  28.26648903  39.25836917  28.03919063 113.25560706\n",
      "  30.41592135  45.52263192 119.87164198  23.02034364  40.2468011\n",
      "  21.70807757  26.49748182 101.98560742  55.59911483 109.66624968\n",
      "  30.58392021  26.71037701  27.67485591  27.35276358  17.37355791\n",
      "  50.88806166  27.37346527  18.70291056 113.3687864   18.96008873\n",
      "  92.38199942  91.98435702  99.89632198  96.64953504  91.74274881\n",
      "  35.99845546 112.52800015  26.24234615 100.57246508  54.04967799\n",
      "  58.05838748  90.33739417  46.46335329  50.97353145  87.31007167\n",
      "  24.85780048  24.18795538 105.64621571  90.0104644   39.38888196\n",
      "  91.59489414  24.78231961  44.03800024  33.41818619  93.87585749\n",
      "  22.12135976  27.02525152  99.64207322  27.12797335  96.93303571\n",
      "  39.8032089  103.1517492   37.38772229  22.09089477  90.92035757\n",
      "  79.64164352  95.20914432  84.07742773  41.51787104  36.14251886\n",
      " 118.80603491  77.0453216   42.00443281  71.02389254  99.12849998\n",
      "  89.94385801  52.61903572  32.0885582   24.13796418  72.43039213\n",
      "  23.98277582  48.94210584  21.55686324 106.6120006  114.18421473\n",
      "  40.75184509  96.85646411  40.0020974   51.35857092  54.02089242\n",
      "  30.19773919  64.10546575  37.38772229  28.15059199  37.62063721\n",
      " 117.50710678  35.80574703 115.6908226   86.48964282 118.02921404\n",
      "  33.18051583  28.99238096 118.16742815  39.57715402 118.03374999\n",
      "  71.42057119  39.90051419 118.02921404  46.90198312 112.08628518\n",
      "  45.24421229  65.5086065   86.7172857   19.70827511 102.35939353\n",
      "  31.54403291 107.74296379 105.30485616  23.57819714 114.5319282\n",
      "  26.56628616 105.81139374  23.78340026  81.7474278  104.93731989\n",
      "  47.27234445  42.08769294  66.29407147  27.14303119 115.40182059\n",
      " 123.02278573  54.82435758 113.1555372   36.1680851   53.71839278\n",
      "  46.99801895 106.82800048 113.28075082  34.17519747  29.89509051\n",
      "  40.3292735   23.52365589 108.90775054 108.49821499  73.3942506\n",
      " 102.20785686  52.31514304  65.66689301  27.28642348  36.54291494\n",
      "  34.43510927 109.93853624  56.98027679  38.74354104  85.16107014\n",
      "  21.07336051  75.77332251  42.87488856  52.30988625  20.89662811\n",
      "  18.63038642  54.83089215  37.55565875 120.57021604  67.0668929\n",
      "  85.57700048 105.25907162  49.46929468  28.3909703   55.74439294\n",
      "  37.5573973  113.02239445  29.73159545  60.850714   104.93731989\n",
      " 108.49957139  47.46085685  33.16397531  35.264484   116.9525359\n",
      "  44.64824704  24.02083629  30.42823703  96.08889498  25.94849382\n",
      "  35.41883108 104.8957149   48.29940074 116.07942935  44.93661513\n",
      "  18.02456576  89.37882205  63.73722826 118.42492785  20.33406299\n",
      " 108.51403509  90.82167952 107.87321309  67.28539303  46.69632176\n",
      "  31.21174969  72.30282061  83.51589339 117.54800034  95.83774948\n",
      " 106.96949959  43.27180713  20.40594428  50.31485231 108.18750027\n",
      "  77.8210362   49.87525027  25.41575105  36.27488259 104.54749979\n",
      " 119.33692714  28.44064358 118.25425012  43.65088299  63.88095215\n",
      "  23.88111959  26.01317787  31.26177842  44.32315758  26.32808004\n",
      "  30.34167317  32.90023885  91.98435702  40.96880777  17.48012434\n",
      "  40.55326346 106.76996367  38.27418613  55.95267854  39.79165159\n",
      "  34.96537917  92.57999965  83.59210777  80.83974947  31.06252282\n",
      "  28.4939834   24.5341021  105.25907162  73.81778526 106.65907233\n",
      "  78.64360728  93.35035842 103.71632086 101.94910785  30.38739382\n",
      "  48.69239289  59.89738369  88.69939341  20.49619668  37.6026016\n",
      "  35.71227469  46.79776846  24.71066093  99.36003549  27.65400587\n",
      "  51.30360685 103.3984999  103.73746545 107.75996344  24.7381897\n",
      "  68.42385646  84.54623849  72.9291063   33.79185445  43.93018872\n",
      "  95.59107181  25.10920545  66.85235664  28.6198176   41.04049846\n",
      " 104.08610725  75.10421017  59.82435717  26.40277004  50.48997607\n",
      "  97.48335838 103.48739215  19.51196282  74.64564214  94.33153697\n",
      "  45.48597036  37.5573973   37.67048822  51.86771447  23.78340026\n",
      "  51.51092529  26.66882549  19.89454951 117.98921558 112.66985648\n",
      "  63.02609553  30.35145324 119.13242885  99.26910809  44.25941277\n",
      "  37.04376193  54.92021452  48.56323487  28.46501487  56.30371557\n",
      "  72.91492816  36.43634292  19.77563817  28.79441036  22.44626161\n",
      "  85.50939178 105.9946428   78.94364357  38.43022755  42.38440514\n",
      "  19.75167554  99.76960809  19.61456319  36.17169448 108.35085787\n",
      "  19.3335807   20.33406299 106.02775002  96.57817868  51.48189327\n",
      "  86.11378533  30.68898589  80.57264246 119.77182061  40.98531573\n",
      "  21.43985258 106.79774966  25.36050265  94.88667924  55.89414324\n",
      "  26.44160114 106.326928    59.47839315  98.7607866   22.01771484\n",
      "  49.39407103  47.95212473  63.32577665  55.88464287 105.64667947\n",
      "  92.57999965 102.35257339  71.71542849  52.82764939  35.99845546\n",
      " 103.16899899 103.45000022 104.65103395  19.92148427  31.93553373\n",
      "  24.92552464  87.66046442 105.98107093  24.1322497   19.3844815\n",
      "  19.41935791 120.23253632  22.85345043  36.98011112  32.20771769\n",
      " 118.03374999  33.92157957  32.23950972 108.76732063  51.48189327\n",
      "  41.16483321  35.31118393  26.61576625  99.25300053  84.23928533\n",
      "  43.45506968 111.32778576 119.02517918 105.01250104  78.6592508\n",
      "  19.02559941  19.90954706  38.23259694  29.61210687  45.11864349\n",
      "  39.60720267  65.04478223  27.46646091  19.17667096  43.80556066\n",
      "  33.49299799  23.73966183 107.19646427  49.43248149  97.13435772\n",
      "  82.77535738  75.67889295  40.04809843  45.07759653 112.84225055\n",
      " 114.59985624  26.20008435  28.6265316   31.07619749  28.58245046\n",
      "  46.77695424  71.52257102 102.37357167  23.28179448  22.04300717\n",
      "  31.08101273  72.77589253  74.42914254  29.7246151   84.0281432\n",
      "  26.23301097 105.98293005  60.85464328 104.1355351   64.47157124\n",
      "  40.69728565  25.63729102  33.79185445  37.5601857   24.96248777\n",
      "  29.75659813  99.07210677  24.82669353  94.43910735  98.27482169\n",
      "  41.87074389  36.09757355 112.21528462  28.29746675  65.52563926\n",
      "  80.17735699  19.63948856  49.42722198 110.38064493  35.29448993\n",
      "  25.76569339  85.85317884  37.91968768 110.64307077  38.32295009\n",
      "  32.02146346  30.35145324 117.64128712  36.43163885  39.12747478\n",
      "  24.03687389 109.41003609 112.72039441 111.3937149   55.10071427\n",
      "  78.6455713   29.56070355  21.71388912  42.3994785  112.23382296\n",
      "  22.36583022  40.61108548  22.47472647  42.01215117  57.98052638\n",
      "  28.57140214  37.56588105  32.38333041 103.6863921  114.61257172\n",
      "  32.46998773  28.14569902  49.99151094  39.7721014   42.35547147\n",
      "  52.45882089 100.546178    27.9663637   48.28804329  50.84739276\n",
      "  35.40369919  29.55972985  92.49864197  19.08203936  46.17673928\n",
      "  25.80845472 108.36571475 115.84082086  27.24808795  94.13167981\n",
      " 121.59389223 105.08239474  23.78067092  38.90774822  42.17931134\n",
      "  54.78449985  27.14999281  23.18064587  99.91578402  41.02426924\n",
      "  20.90853255  18.124975    20.33406299  26.86915146  39.18465982\n",
      "  42.79879407  91.07632201  19.05322797  86.25517845  37.9378876\n",
      "  32.52040945  28.75653921  57.94203636  37.15362876  45.09958267\n",
      "  99.68885776  30.04657691  42.57137694  48.41833918  90.82167952\n",
      "  29.50087779  17.40134818  25.75201668  44.99794742  25.39537191\n",
      "  97.65039417  52.00608035 119.41021347  17.77974905  28.44923053\n",
      "  28.79441036  28.17874575 104.97724806  37.76649502 113.90378734\n",
      " 113.80482265  55.32939339  46.92806367  29.79527923 112.50635828\n",
      " 108.23014232  30.31467431 122.85982186  23.57594763  93.86471503\n",
      "  22.34268972  27.55954947  30.21151515  22.29962015  29.40129553\n",
      "  45.7236681   68.71414253  46.85947214  87.83139392 114.89546367\n",
      "  85.30217743  41.43513039  19.09171956  23.68214164  35.18446745\n",
      "  79.39939254  31.64832837  25.86385243  41.79098824 119.47975104\n",
      "  47.16917883  91.98435702 102.33935738  43.06626129  41.51787104\n",
      "  27.62681593  41.59721375  55.94596972  55.30503518  63.58474977\n",
      "  36.03060355 105.67485673  22.68214859  28.7676205   31.49912977\n",
      "  23.16540098  21.49940232  88.90889304  65.84989302  87.83139392\n",
      "  34.59353352  59.81492887  29.46754197  60.93564306  95.56832177\n",
      "  23.06979752 112.3367484   20.83112471  20.92822722  43.06626129\n",
      "  84.14900071  66.98979596 117.42374965  26.270573   116.04307093\n",
      "  20.02457019  52.42210688  38.57799189  85.58596407  72.08414323\n",
      "  54.00071376  27.65400587 112.37064116  22.69476645  37.97729656\n",
      "  79.03464208  96.94249998 115.0213198   87.77467918  21.96641622\n",
      "  24.18795538  27.98509039  69.07391698  50.07389532  17.89038876\n",
      "  24.02703565 101.66282191  23.15874134  50.59309019 115.4285717\n",
      "  35.93771349  30.0538563   31.65187243  24.47454936  23.42013059\n",
      "  34.91087736  66.55067798  81.50424957 115.3392849  102.59539304\n",
      "  22.95441573 118.82082203  78.96235766  53.24907221 105.43032183\n",
      " 103.36889458  40.05884361 117.93014145  23.93117905  29.23382889\n",
      " 104.29325049  93.12131214  55.86292853  30.50718614  97.60857064\n",
      "  50.87599945 121.21600015  31.16116088  22.7185171   29.03511579\n",
      "  76.03339277  20.20939663 107.32957023  68.70542853  88.33275114\n",
      " 115.89625141  32.80230618]\n"
     ]
    }
   ],
   "source": [
    "print(predictions)"
   ]
  },
  {
   "cell_type": "code",
   "execution_count": 58,
   "metadata": {
    "colab": {
     "base_uri": "https://localhost:8080/"
    },
    "executionInfo": {
     "elapsed": 432,
     "status": "ok",
     "timestamp": 1701670684448,
     "user": {
      "displayName": "Abhishek Bajpai",
      "userId": "11088130130870770770"
     },
     "user_tz": -330
    },
    "id": "400Wo8XsuzHd",
    "outputId": "523ff61c-8c79-4fd3-f621-1018fcc68f77"
   },
   "outputs": [
    {
     "data": {
      "text/plain": [
       "68.40285166896443"
      ]
     },
     "execution_count": 58,
     "metadata": {},
     "output_type": "execute_result"
    }
   ],
   "source": [
    "#rmse\n",
    "rms=np.sqrt(np.mean(np.power((np.array(predictions)),2)))\n",
    "rms"
   ]
  },
  {
   "cell_type": "code",
   "execution_count": 59,
   "metadata": {
    "executionInfo": {
     "elapsed": 420,
     "status": "ok",
     "timestamp": 1701670693617,
     "user": {
      "displayName": "Abhishek Bajpai",
      "userId": "11088130130870770770"
     },
     "user_tz": -330
    },
    "id": "M7qc9GmJvJt9"
   },
   "outputs": [],
   "source": [
    "valid = pd.DataFrame({'Actual Close':y_test_reg,'Predicted Close value':predictions})"
   ]
  },
  {
   "cell_type": "code",
   "execution_count": 60,
   "metadata": {
    "colab": {
     "base_uri": "https://localhost:8080/",
     "height": 565
    },
    "executionInfo": {
     "elapsed": 4,
     "status": "ok",
     "timestamp": 1701670695144,
     "user": {
      "displayName": "Abhishek Bajpai",
      "userId": "11088130130870770770"
     },
     "user_tz": -330
    },
    "id": "T-x299J9vuTS",
    "outputId": "f861f860-37f1-4c02-beab-18a3e1be9887"
   },
   "outputs": [
    {
     "data": {
      "text/html": [
       "\n",
       "  <div id=\"df-d07e9689-bf61-49a0-9fcc-eac1095278d7\" class=\"colab-df-container\">\n",
       "    <div>\n",
       "<style scoped>\n",
       "    .dataframe tbody tr th:only-of-type {\n",
       "        vertical-align: middle;\n",
       "    }\n",
       "\n",
       "    .dataframe tbody tr th {\n",
       "        vertical-align: top;\n",
       "    }\n",
       "\n",
       "    .dataframe thead th {\n",
       "        text-align: right;\n",
       "    }\n",
       "</style>\n",
       "<table border=\"1\" class=\"dataframe\">\n",
       "  <thead>\n",
       "    <tr style=\"text-align: right;\">\n",
       "      <th></th>\n",
       "      <th>Actual Close</th>\n",
       "      <th>Predicted Close value</th>\n",
       "    </tr>\n",
       "  </thead>\n",
       "  <tbody>\n",
       "    <tr>\n",
       "      <th>2420</th>\n",
       "      <td>138.916000</td>\n",
       "      <td>96.527322</td>\n",
       "    </tr>\n",
       "    <tr>\n",
       "      <th>1284</th>\n",
       "      <td>40.478001</td>\n",
       "      <td>28.410570</td>\n",
       "    </tr>\n",
       "    <tr>\n",
       "      <th>314</th>\n",
       "      <td>19.503147</td>\n",
       "      <td>29.747835</td>\n",
       "    </tr>\n",
       "    <tr>\n",
       "      <th>1227</th>\n",
       "      <td>38.223999</td>\n",
       "      <td>42.729108</td>\n",
       "    </tr>\n",
       "    <tr>\n",
       "      <th>98</th>\n",
       "      <td>15.179603</td>\n",
       "      <td>23.156046</td>\n",
       "    </tr>\n",
       "    <tr>\n",
       "      <th>2321</th>\n",
       "      <td>102.218002</td>\n",
       "      <td>119.629070</td>\n",
       "    </tr>\n",
       "    <tr>\n",
       "      <th>469</th>\n",
       "      <td>25.715363</td>\n",
       "      <td>39.900514</td>\n",
       "    </tr>\n",
       "    <tr>\n",
       "      <th>1714</th>\n",
       "      <td>52.535500</td>\n",
       "      <td>99.360035</td>\n",
       "    </tr>\n",
       "    <tr>\n",
       "      <th>2100</th>\n",
       "      <td>69.418503</td>\n",
       "      <td>77.658715</td>\n",
       "    </tr>\n",
       "    <tr>\n",
       "      <th>208</th>\n",
       "      <td>16.943991</td>\n",
       "      <td>19.475538</td>\n",
       "    </tr>\n",
       "    <tr>\n",
       "      <th>2382</th>\n",
       "      <td>126.999496</td>\n",
       "      <td>78.845714</td>\n",
       "    </tr>\n",
       "    <tr>\n",
       "      <th>188</th>\n",
       "      <td>18.973383</td>\n",
       "      <td>21.713889</td>\n",
       "    </tr>\n",
       "    <tr>\n",
       "      <th>2832</th>\n",
       "      <td>104.949997</td>\n",
       "      <td>97.489180</td>\n",
       "    </tr>\n",
       "    <tr>\n",
       "      <th>505</th>\n",
       "      <td>28.365179</td>\n",
       "      <td>33.294457</td>\n",
       "    </tr>\n",
       "    <tr>\n",
       "      <th>1079</th>\n",
       "      <td>37.696499</td>\n",
       "      <td>44.854436</td>\n",
       "    </tr>\n",
       "    <tr>\n",
       "      <th>1436</th>\n",
       "      <td>45.750000</td>\n",
       "      <td>40.337848</td>\n",
       "    </tr>\n",
       "    <tr>\n",
       "      <th>2379</th>\n",
       "      <td>126.371002</td>\n",
       "      <td>90.414215</td>\n",
       "    </tr>\n",
       "    <tr>\n",
       "      <th>1174</th>\n",
       "      <td>38.438999</td>\n",
       "      <td>26.661960</td>\n",
       "    </tr>\n",
       "    <tr>\n",
       "      <th>993</th>\n",
       "      <td>37.388500</td>\n",
       "      <td>83.162749</td>\n",
       "    </tr>\n",
       "    <tr>\n",
       "      <th>87</th>\n",
       "      <td>15.262542</td>\n",
       "      <td>30.189447</td>\n",
       "    </tr>\n",
       "  </tbody>\n",
       "</table>\n",
       "</div>\n",
       "    <div class=\"colab-df-buttons\">\n",
       "\n",
       "  <div class=\"colab-df-container\">\n",
       "    <button class=\"colab-df-convert\" onclick=\"convertToInteractive('df-d07e9689-bf61-49a0-9fcc-eac1095278d7')\"\n",
       "            title=\"Convert this dataframe to an interactive table.\"\n",
       "            style=\"display:none;\">\n",
       "\n",
       "  <svg xmlns=\"http://www.w3.org/2000/svg\" height=\"24px\" viewBox=\"0 -960 960 960\">\n",
       "    <path d=\"M120-120v-720h720v720H120Zm60-500h600v-160H180v160Zm220 220h160v-160H400v160Zm0 220h160v-160H400v160ZM180-400h160v-160H180v160Zm440 0h160v-160H620v160ZM180-180h160v-160H180v160Zm440 0h160v-160H620v160Z\"/>\n",
       "  </svg>\n",
       "    </button>\n",
       "\n",
       "  <style>\n",
       "    .colab-df-container {\n",
       "      display:flex;\n",
       "      gap: 12px;\n",
       "    }\n",
       "\n",
       "    .colab-df-convert {\n",
       "      background-color: #E8F0FE;\n",
       "      border: none;\n",
       "      border-radius: 50%;\n",
       "      cursor: pointer;\n",
       "      display: none;\n",
       "      fill: #1967D2;\n",
       "      height: 32px;\n",
       "      padding: 0 0 0 0;\n",
       "      width: 32px;\n",
       "    }\n",
       "\n",
       "    .colab-df-convert:hover {\n",
       "      background-color: #E2EBFA;\n",
       "      box-shadow: 0px 1px 2px rgba(60, 64, 67, 0.3), 0px 1px 3px 1px rgba(60, 64, 67, 0.15);\n",
       "      fill: #174EA6;\n",
       "    }\n",
       "\n",
       "    .colab-df-buttons div {\n",
       "      margin-bottom: 4px;\n",
       "    }\n",
       "\n",
       "    [theme=dark] .colab-df-convert {\n",
       "      background-color: #3B4455;\n",
       "      fill: #D2E3FC;\n",
       "    }\n",
       "\n",
       "    [theme=dark] .colab-df-convert:hover {\n",
       "      background-color: #434B5C;\n",
       "      box-shadow: 0px 1px 3px 1px rgba(0, 0, 0, 0.15);\n",
       "      filter: drop-shadow(0px 1px 2px rgba(0, 0, 0, 0.3));\n",
       "      fill: #FFFFFF;\n",
       "    }\n",
       "  </style>\n",
       "\n",
       "    <script>\n",
       "      const buttonEl =\n",
       "        document.querySelector('#df-d07e9689-bf61-49a0-9fcc-eac1095278d7 button.colab-df-convert');\n",
       "      buttonEl.style.display =\n",
       "        google.colab.kernel.accessAllowed ? 'block' : 'none';\n",
       "\n",
       "      async function convertToInteractive(key) {\n",
       "        const element = document.querySelector('#df-d07e9689-bf61-49a0-9fcc-eac1095278d7');\n",
       "        const dataTable =\n",
       "          await google.colab.kernel.invokeFunction('convertToInteractive',\n",
       "                                                    [key], {});\n",
       "        if (!dataTable) return;\n",
       "\n",
       "        const docLinkHtml = 'Like what you see? Visit the ' +\n",
       "          '<a target=\"_blank\" href=https://colab.research.google.com/notebooks/data_table.ipynb>data table notebook</a>'\n",
       "          + ' to learn more about interactive tables.';\n",
       "        element.innerHTML = '';\n",
       "        dataTable['output_type'] = 'display_data';\n",
       "        await google.colab.output.renderOutput(dataTable, element);\n",
       "        const docLink = document.createElement('div');\n",
       "        docLink.innerHTML = docLinkHtml;\n",
       "        element.appendChild(docLink);\n",
       "      }\n",
       "    </script>\n",
       "  </div>\n",
       "\n",
       "\n",
       "<div id=\"df-28457ff2-5438-406c-8149-261b028558f3\">\n",
       "  <button class=\"colab-df-quickchart\" onclick=\"quickchart('df-28457ff2-5438-406c-8149-261b028558f3')\"\n",
       "            title=\"Suggest charts\"\n",
       "            style=\"display:none;\">\n",
       "\n",
       "<svg xmlns=\"http://www.w3.org/2000/svg\" height=\"24px\"viewBox=\"0 0 24 24\"\n",
       "     width=\"24px\">\n",
       "    <g>\n",
       "        <path d=\"M19 3H5c-1.1 0-2 .9-2 2v14c0 1.1.9 2 2 2h14c1.1 0 2-.9 2-2V5c0-1.1-.9-2-2-2zM9 17H7v-7h2v7zm4 0h-2V7h2v10zm4 0h-2v-4h2v4z\"/>\n",
       "    </g>\n",
       "</svg>\n",
       "  </button>\n",
       "\n",
       "<style>\n",
       "  .colab-df-quickchart {\n",
       "      --bg-color: #E8F0FE;\n",
       "      --fill-color: #1967D2;\n",
       "      --hover-bg-color: #E2EBFA;\n",
       "      --hover-fill-color: #174EA6;\n",
       "      --disabled-fill-color: #AAA;\n",
       "      --disabled-bg-color: #DDD;\n",
       "  }\n",
       "\n",
       "  [theme=dark] .colab-df-quickchart {\n",
       "      --bg-color: #3B4455;\n",
       "      --fill-color: #D2E3FC;\n",
       "      --hover-bg-color: #434B5C;\n",
       "      --hover-fill-color: #FFFFFF;\n",
       "      --disabled-bg-color: #3B4455;\n",
       "      --disabled-fill-color: #666;\n",
       "  }\n",
       "\n",
       "  .colab-df-quickchart {\n",
       "    background-color: var(--bg-color);\n",
       "    border: none;\n",
       "    border-radius: 50%;\n",
       "    cursor: pointer;\n",
       "    display: none;\n",
       "    fill: var(--fill-color);\n",
       "    height: 32px;\n",
       "    padding: 0;\n",
       "    width: 32px;\n",
       "  }\n",
       "\n",
       "  .colab-df-quickchart:hover {\n",
       "    background-color: var(--hover-bg-color);\n",
       "    box-shadow: 0 1px 2px rgba(60, 64, 67, 0.3), 0 1px 3px 1px rgba(60, 64, 67, 0.15);\n",
       "    fill: var(--button-hover-fill-color);\n",
       "  }\n",
       "\n",
       "  .colab-df-quickchart-complete:disabled,\n",
       "  .colab-df-quickchart-complete:disabled:hover {\n",
       "    background-color: var(--disabled-bg-color);\n",
       "    fill: var(--disabled-fill-color);\n",
       "    box-shadow: none;\n",
       "  }\n",
       "\n",
       "  .colab-df-spinner {\n",
       "    border: 2px solid var(--fill-color);\n",
       "    border-color: transparent;\n",
       "    border-bottom-color: var(--fill-color);\n",
       "    animation:\n",
       "      spin 1s steps(1) infinite;\n",
       "  }\n",
       "\n",
       "  @keyframes spin {\n",
       "    0% {\n",
       "      border-color: transparent;\n",
       "      border-bottom-color: var(--fill-color);\n",
       "      border-left-color: var(--fill-color);\n",
       "    }\n",
       "    20% {\n",
       "      border-color: transparent;\n",
       "      border-left-color: var(--fill-color);\n",
       "      border-top-color: var(--fill-color);\n",
       "    }\n",
       "    30% {\n",
       "      border-color: transparent;\n",
       "      border-left-color: var(--fill-color);\n",
       "      border-top-color: var(--fill-color);\n",
       "      border-right-color: var(--fill-color);\n",
       "    }\n",
       "    40% {\n",
       "      border-color: transparent;\n",
       "      border-right-color: var(--fill-color);\n",
       "      border-top-color: var(--fill-color);\n",
       "    }\n",
       "    60% {\n",
       "      border-color: transparent;\n",
       "      border-right-color: var(--fill-color);\n",
       "    }\n",
       "    80% {\n",
       "      border-color: transparent;\n",
       "      border-right-color: var(--fill-color);\n",
       "      border-bottom-color: var(--fill-color);\n",
       "    }\n",
       "    90% {\n",
       "      border-color: transparent;\n",
       "      border-bottom-color: var(--fill-color);\n",
       "    }\n",
       "  }\n",
       "</style>\n",
       "\n",
       "  <script>\n",
       "    async function quickchart(key) {\n",
       "      const quickchartButtonEl =\n",
       "        document.querySelector('#' + key + ' button');\n",
       "      quickchartButtonEl.disabled = true;  // To prevent multiple clicks.\n",
       "      quickchartButtonEl.classList.add('colab-df-spinner');\n",
       "      try {\n",
       "        const charts = await google.colab.kernel.invokeFunction(\n",
       "            'suggestCharts', [key], {});\n",
       "      } catch (error) {\n",
       "        console.error('Error during call to suggestCharts:', error);\n",
       "      }\n",
       "      quickchartButtonEl.classList.remove('colab-df-spinner');\n",
       "      quickchartButtonEl.classList.add('colab-df-quickchart-complete');\n",
       "    }\n",
       "    (() => {\n",
       "      let quickchartButtonEl =\n",
       "        document.querySelector('#df-28457ff2-5438-406c-8149-261b028558f3 button');\n",
       "      quickchartButtonEl.style.display =\n",
       "        google.colab.kernel.accessAllowed ? 'block' : 'none';\n",
       "    })();\n",
       "  </script>\n",
       "</div>\n",
       "    </div>\n",
       "  </div>\n"
      ],
      "text/plain": [
       "      Actual Close  Predicted Close value\n",
       "2420    138.916000              96.527322\n",
       "1284     40.478001              28.410570\n",
       "314      19.503147              29.747835\n",
       "1227     38.223999              42.729108\n",
       "98       15.179603              23.156046\n",
       "2321    102.218002             119.629070\n",
       "469      25.715363              39.900514\n",
       "1714     52.535500              99.360035\n",
       "2100     69.418503              77.658715\n",
       "208      16.943991              19.475538\n",
       "2382    126.999496              78.845714\n",
       "188      18.973383              21.713889\n",
       "2832    104.949997              97.489180\n",
       "505      28.365179              33.294457\n",
       "1079     37.696499              44.854436\n",
       "1436     45.750000              40.337848\n",
       "2379    126.371002              90.414215\n",
       "1174     38.438999              26.661960\n",
       "993      37.388500              83.162749\n",
       "87       15.262542              30.189447"
      ]
     },
     "execution_count": 60,
     "metadata": {},
     "output_type": "execute_result"
    }
   ],
   "source": [
    "valid.head(20)"
   ]
  },
  {
   "cell_type": "code",
   "execution_count": 61,
   "metadata": {
    "colab": {
     "base_uri": "https://localhost:8080/",
     "height": 452
    },
    "executionInfo": {
     "elapsed": 447,
     "status": "ok",
     "timestamp": 1701670746890,
     "user": {
      "displayName": "Abhishek Bajpai",
      "userId": "11088130130870770770"
     },
     "user_tz": -330
    },
    "id": "cEwSI5wNzAQF",
    "outputId": "0fa40481-5e2d-4f93-f6fd-b514a3f69ce4"
   },
   "outputs": [
    {
     "data": {
      "image/png": "[encoded data removed]",
      "text/plain": [
       "<Figure size 640x480 with 1 Axes>"
      ]
     },
     "metadata": {},
     "output_type": "display_data"
    }
   ],
   "source": [
    "from matplotlib import pyplot as plt\n",
    "_df_0['index'].plot(kind='hist', bins=20, title='index')\n",
    "plt.gca().spines[['top', 'right',]].set_visible(False)"
   ]
  },
  {
   "cell_type": "code",
   "execution_count": 62,
   "metadata": {
    "colab": {
     "base_uri": "https://localhost:8080/",
     "height": 452
    },
    "executionInfo": {
     "elapsed": 611,
     "status": "ok",
     "timestamp": 1701670751490,
     "user": {
      "displayName": "Abhishek Bajpai",
      "userId": "11088130130870770770"
     },
     "user_tz": -330
    },
    "id": "VdZEGeikzH1V",
    "outputId": "641c8483-b1d4-4804-acbf-d96e44f6d3ec"
   },
   "outputs": [
    {
     "data": {
      "image/png": "[encoded data removed]",
      "text/plain": [
       "<Figure size 640x480 with 1 Axes>"
      ]
     },
     "metadata": {},
     "output_type": "display_data"
    }
   ],
   "source": [
    "from matplotlib import pyplot as plt\n",
    "_df_1['Predicted Close value'].plot(kind='hist', bins=20, title='Predicted Close value')\n",
    "plt.gca().spines[['top', 'right',]].set_visible(False)"
   ]
  },
  {
   "cell_type": "code",
   "execution_count": 63,
   "metadata": {
    "colab": {
     "base_uri": "https://localhost:8080/",
     "height": 449
    },
    "executionInfo": {
     "elapsed": 958,
     "status": "ok",
     "timestamp": 1701670754966,
     "user": {
      "displayName": "Abhishek Bajpai",
      "userId": "11088130130870770770"
     },
     "user_tz": -330
    },
    "id": "zoo6VIuUzKGE",
    "outputId": "a28f016c-3be5-4a1a-e000-b3863e2cfa54"
   },
   "outputs": [
    {
     "data": {
      "image/png": "[encoded data removed]",
      "text/plain": [
       "<Figure size 640x480 with 1 Axes>"
      ]
     },
     "metadata": {},
     "output_type": "display_data"
    }
   ],
   "source": [
    "from matplotlib import pyplot as plt\n",
    "_df_2.plot(kind='scatter', x='Actual Close', y='Predicted Close value', s=32, alpha=.8)\n",
    "plt.gca().spines[['top', 'right',]].set_visible(False)"
   ]
  },
  {
   "cell_type": "code",
   "execution_count": 64,
   "metadata": {
    "colab": {
     "base_uri": "https://localhost:8080/",
     "height": 391
    },
    "executionInfo": {
     "elapsed": 1152,
     "status": "ok",
     "timestamp": 1701670757479,
     "user": {
      "displayName": "Abhishek Bajpai",
      "userId": "11088130130870770770"
     },
     "user_tz": -330
    },
    "id": "NONYnYutzKTU",
    "outputId": "93a0b0e9-377b-410d-82e2-d4a30477212e"
   },
   "outputs": [
    {
     "data": {
      "image/png": "[encoded data removed]",
      "text/plain": [
       "<Figure size 800x400 with 1 Axes>"
      ]
     },
     "metadata": {},
     "output_type": "display_data"
    }
   ],
   "source": [
    "from matplotlib import pyplot as plt\n",
    "_df_3['Actual Close'].plot(kind='line', figsize=(8, 4), title='Actual Close')\n",
    "plt.gca().spines[['top', 'right']].set_visible(False)"
   ]
  },
  {
   "cell_type": "code",
   "execution_count": 65,
   "metadata": {
    "colab": {
     "base_uri": "https://localhost:8080/",
     "height": 391
    },
    "executionInfo": {
     "elapsed": 935,
     "status": "ok",
     "timestamp": 1701670759675,
     "user": {
      "displayName": "Abhishek Bajpai",
      "userId": "11088130130870770770"
     },
     "user_tz": -330
    },
    "id": "2VRGxGk1zWkL",
    "outputId": "f05eed4e-e083-43e5-cacd-bbb08c130f45"
   },
   "outputs": [
    {
     "data": {
      "image/png": "[encoded data removed]",
      "text/plain": [
       "<Figure size 800x400 with 1 Axes>"
      ]
     },
     "metadata": {},
     "output_type": "display_data"
    }
   ],
   "source": [
    "from matplotlib import pyplot as plt\n",
    "_df_4['Predicted Close value'].plot(kind='line', figsize=(8, 4), title='Predicted Close value')\n",
    "plt.gca().spines[['top', 'right']].set_visible(False)"
   ]
  }
 ],
 "metadata": {
  "colab": {
   "authorship_tag": "ABX9TyNtW49sSxeudxsXHI8sM0XX",
   "provenance": []
  },
  "kernelspec": {
   "display_name": "Python 3 (ipykernel)",
   "language": "python",
   "name": "python3"
  },
  "language_info": {
   "codemirror_mode": {
    "name": "ipython",
    "version": 3
   },
   "file_extension": ".py",
   "mimetype": "text/x-python",
   "name": "python",
   "nbconvert_exporter": "python",
   "pygments_lexer": "ipython3",
   "version": "3.11.4"
  }
 },
 "nbformat": 4,
 "nbformat_minor": 1
}
