{
 "cells": [
  {
   "cell_type": "code",
   "execution_count": 1,
   "metadata": {
    "executionInfo": {
     "elapsed": 465,
     "status": "ok",
     "timestamp": 1701362385673,
     "user": {
      "displayName": "Abhishek Bajpai",
      "userId": "11088130130870770770"
     },
     "user_tz": -330
    },
    "id": "u2TMgwCiFNQ8"
   },
   "outputs": [
    {
     "ename": "ModuleNotFoundError",
     "evalue": "No module named 'yfinance'",
     "output_type": "error",
     "traceback": [
      "\u001b[1;31m---------------------------------------------------------------------------\u001b[0m",
      "\u001b[1;31mModuleNotFoundError\u001b[0m                       Traceback (most recent call last)",
      "Cell \u001b[1;32mIn[1], line 4\u001b[0m\n\u001b[0;32m      2\u001b[0m \u001b[38;5;28;01mimport\u001b[39;00m \u001b[38;5;21;01mpandas\u001b[39;00m \u001b[38;5;28;01mas\u001b[39;00m \u001b[38;5;21;01mpd\u001b[39;00m\n\u001b[0;32m      3\u001b[0m \u001b[38;5;28;01mimport\u001b[39;00m \u001b[38;5;21;01mmatplotlib\u001b[39;00m\u001b[38;5;21;01m.\u001b[39;00m\u001b[38;5;21;01mpyplot\u001b[39;00m \u001b[38;5;28;01mas\u001b[39;00m \u001b[38;5;21;01mplt\u001b[39;00m\n\u001b[1;32m----> 4\u001b[0m \u001b[38;5;28;01mimport\u001b[39;00m \u001b[38;5;21;01myfinance\u001b[39;00m \u001b[38;5;28;01mas\u001b[39;00m \u001b[38;5;21;01myf\u001b[39;00m\n",
      "\u001b[1;31mModuleNotFoundError\u001b[0m: No module named 'yfinance'"
     ]
    }
   ],
   "source": [
    "import numpy as np\n",
    "import pandas as pd\n",
    "import matplotlib.pyplot as plt\n",
    "import yfinance as yf"
   ]
  },
  {
   "cell_type": "code",
   "execution_count": 2,
   "metadata": {
    "colab": {
     "base_uri": "https://localhost:8080/"
    },
    "executionInfo": {
     "elapsed": 1651,
     "status": "ok",
     "timestamp": 1701362387789,
     "user": {
      "displayName": "Abhishek Bajpai",
      "userId": "11088130130870770770"
     },
     "user_tz": -330
    },
    "id": "TRYp0v86FRi1",
    "outputId": "39453272-b235-43e2-a94e-8678e29a83e8"
   },
   "outputs": [
    {
     "ename": "NameError",
     "evalue": "name 'yf' is not defined",
     "output_type": "error",
     "traceback": [
      "\u001b[1;31m---------------------------------------------------------------------------\u001b[0m",
      "\u001b[1;31mNameError\u001b[0m                                 Traceback (most recent call last)",
      "Cell \u001b[1;32mIn[2], line 6\u001b[0m\n\u001b[0;32m      2\u001b[0m end\u001b[38;5;241m=\u001b[39m\u001b[38;5;124m'\u001b[39m\u001b[38;5;124m2023-11-15\u001b[39m\u001b[38;5;124m'\u001b[39m\n\u001b[0;32m      4\u001b[0m stock\u001b[38;5;241m=\u001b[39m\u001b[38;5;124m'\u001b[39m\u001b[38;5;124mGOOG\u001b[39m\u001b[38;5;124m'\u001b[39m\n\u001b[1;32m----> 6\u001b[0m data\u001b[38;5;241m=\u001b[39myf\u001b[38;5;241m.\u001b[39mdownload(stock,start,end)\n",
      "\u001b[1;31mNameError\u001b[0m: name 'yf' is not defined"
     ]
    }
   ],
   "source": [
    "start='2012-01-01'\n",
    "end='2023-11-15'\n",
    "\n",
    "stock='GOOG'\n",
    "\n",
    "data=yf.download(stock,start,end)"
   ]
  },
  {
   "cell_type": "code",
   "execution_count": 7,
   "metadata": {
    "executionInfo": {
     "elapsed": 42,
     "status": "ok",
     "timestamp": 1701362387790,
     "user": {
      "displayName": "Abhishek Bajpai",
      "userId": "11088130130870770770"
     },
     "user_tz": -330
    },
    "id": "wBd9FGV9FWAB"
   },
   "outputs": [],
   "source": [
    "data.reset_index(inplace=True)"
   ]
  },
  {
   "cell_type": "code",
   "execution_count": 8,
   "metadata": {
    "colab": {
     "base_uri": "https://localhost:8080/",
     "height": 423
    },
    "executionInfo": {
     "elapsed": 41,
     "status": "ok",
     "timestamp": 1701362387790,
     "user": {
      "displayName": "Abhishek Bajpai",
      "userId": "11088130130870770770"
     },
     "user_tz": -330
    },
    "id": "laZUaBD8FWCY",
    "outputId": "74188cc7-3ff1-4ca1-f34d-5154376a4293"
   },
   "outputs": [
    {
     "data": {
      "text/html": [
       "\n",
       "  <div id=\"df-7cc6fd05-b1a0-431e-9200-a97dcb2b202a\" class=\"colab-df-container\">\n",
       "    <div>\n",
       "<style scoped>\n",
       "    .dataframe tbody tr th:only-of-type {\n",
       "        vertical-align: middle;\n",
       "    }\n",
       "\n",
       "    .dataframe tbody tr th {\n",
       "        vertical-align: top;\n",
       "    }\n",
       "\n",
       "    .dataframe thead th {\n",
       "        text-align: right;\n",
       "    }\n",
       "</style>\n",
       "<table border=\"1\" class=\"dataframe\">\n",
       "  <thead>\n",
       "    <tr style=\"text-align: right;\">\n",
       "      <th></th>\n",
       "      <th>Date</th>\n",
       "      <th>Open</th>\n",
       "      <th>High</th>\n",
       "      <th>Low</th>\n",
       "      <th>Close</th>\n",
       "      <th>Adj Close</th>\n",
       "      <th>Volume</th>\n",
       "    </tr>\n",
       "  </thead>\n",
       "  <tbody>\n",
       "    <tr>\n",
       "      <th>0</th>\n",
       "      <td>2012-01-03</td>\n",
       "      <td>16.262545</td>\n",
       "      <td>16.641375</td>\n",
       "      <td>16.248346</td>\n",
       "      <td>16.573130</td>\n",
       "      <td>16.573130</td>\n",
       "      <td>147611217</td>\n",
       "    </tr>\n",
       "    <tr>\n",
       "      <th>1</th>\n",
       "      <td>2012-01-04</td>\n",
       "      <td>16.563665</td>\n",
       "      <td>16.693678</td>\n",
       "      <td>16.453827</td>\n",
       "      <td>16.644611</td>\n",
       "      <td>16.644611</td>\n",
       "      <td>114989399</td>\n",
       "    </tr>\n",
       "    <tr>\n",
       "      <th>2</th>\n",
       "      <td>2012-01-05</td>\n",
       "      <td>16.491436</td>\n",
       "      <td>16.537264</td>\n",
       "      <td>16.344486</td>\n",
       "      <td>16.413727</td>\n",
       "      <td>16.413727</td>\n",
       "      <td>131808205</td>\n",
       "    </tr>\n",
       "    <tr>\n",
       "      <th>3</th>\n",
       "      <td>2012-01-06</td>\n",
       "      <td>16.417213</td>\n",
       "      <td>16.438385</td>\n",
       "      <td>16.184088</td>\n",
       "      <td>16.189817</td>\n",
       "      <td>16.189817</td>\n",
       "      <td>108119746</td>\n",
       "    </tr>\n",
       "    <tr>\n",
       "      <th>4</th>\n",
       "      <td>2012-01-09</td>\n",
       "      <td>16.102144</td>\n",
       "      <td>16.114599</td>\n",
       "      <td>15.472754</td>\n",
       "      <td>15.503389</td>\n",
       "      <td>15.503389</td>\n",
       "      <td>233776981</td>\n",
       "    </tr>\n",
       "    <tr>\n",
       "      <th>...</th>\n",
       "      <td>...</td>\n",
       "      <td>...</td>\n",
       "      <td>...</td>\n",
       "      <td>...</td>\n",
       "      <td>...</td>\n",
       "      <td>...</td>\n",
       "      <td>...</td>\n",
       "    </tr>\n",
       "    <tr>\n",
       "      <th>2982</th>\n",
       "      <td>2023-11-08</td>\n",
       "      <td>132.360001</td>\n",
       "      <td>133.539993</td>\n",
       "      <td>132.160004</td>\n",
       "      <td>133.259995</td>\n",
       "      <td>133.259995</td>\n",
       "      <td>15093600</td>\n",
       "    </tr>\n",
       "    <tr>\n",
       "      <th>2983</th>\n",
       "      <td>2023-11-09</td>\n",
       "      <td>133.360001</td>\n",
       "      <td>133.960007</td>\n",
       "      <td>131.509995</td>\n",
       "      <td>131.690002</td>\n",
       "      <td>131.690002</td>\n",
       "      <td>17976500</td>\n",
       "    </tr>\n",
       "    <tr>\n",
       "      <th>2984</th>\n",
       "      <td>2023-11-10</td>\n",
       "      <td>131.529999</td>\n",
       "      <td>134.270004</td>\n",
       "      <td>130.869995</td>\n",
       "      <td>134.059998</td>\n",
       "      <td>134.059998</td>\n",
       "      <td>20872900</td>\n",
       "    </tr>\n",
       "    <tr>\n",
       "      <th>2985</th>\n",
       "      <td>2023-11-13</td>\n",
       "      <td>133.360001</td>\n",
       "      <td>134.110001</td>\n",
       "      <td>132.770004</td>\n",
       "      <td>133.639999</td>\n",
       "      <td>133.639999</td>\n",
       "      <td>16409900</td>\n",
       "    </tr>\n",
       "    <tr>\n",
       "      <th>2986</th>\n",
       "      <td>2023-11-14</td>\n",
       "      <td>135.649994</td>\n",
       "      <td>137.240005</td>\n",
       "      <td>135.100006</td>\n",
       "      <td>135.429993</td>\n",
       "      <td>135.429993</td>\n",
       "      <td>22317300</td>\n",
       "    </tr>\n",
       "  </tbody>\n",
       "</table>\n",
       "<p>2987 rows × 7 columns</p>\n",
       "</div>\n",
       "    <div class=\"colab-df-buttons\">\n",
       "\n",
       "  <div class=\"colab-df-container\">\n",
       "    <button class=\"colab-df-convert\" onclick=\"convertToInteractive('df-7cc6fd05-b1a0-431e-9200-a97dcb2b202a')\"\n",
       "            title=\"Convert this dataframe to an interactive table.\"\n",
       "            style=\"display:none;\">\n",
       "\n",
       "  <svg xmlns=\"http://www.w3.org/2000/svg\" height=\"24px\" viewBox=\"0 -960 960 960\">\n",
       "    <path d=\"M120-120v-720h720v720H120Zm60-500h600v-160H180v160Zm220 220h160v-160H400v160Zm0 220h160v-160H400v160ZM180-400h160v-160H180v160Zm440 0h160v-160H620v160ZM180-180h160v-160H180v160Zm440 0h160v-160H620v160Z\"/>\n",
       "  </svg>\n",
       "    </button>\n",
       "\n",
       "  <style>\n",
       "    .colab-df-container {\n",
       "      display:flex;\n",
       "      gap: 12px;\n",
       "    }\n",
       "\n",
       "    .colab-df-convert {\n",
       "      background-color: #E8F0FE;\n",
       "      border: none;\n",
       "      border-radius: 50%;\n",
       "      cursor: pointer;\n",
       "      display: none;\n",
       "      fill: #1967D2;\n",
       "      height: 32px;\n",
       "      padding: 0 0 0 0;\n",
       "      width: 32px;\n",
       "    }\n",
       "\n",
       "    .colab-df-convert:hover {\n",
       "      background-color: #E2EBFA;\n",
       "      box-shadow: 0px 1px 2px rgba(60, 64, 67, 0.3), 0px 1px 3px 1px rgba(60, 64, 67, 0.15);\n",
       "      fill: #174EA6;\n",
       "    }\n",
       "\n",
       "    .colab-df-buttons div {\n",
       "      margin-bottom: 4px;\n",
       "    }\n",
       "\n",
       "    [theme=dark] .colab-df-convert {\n",
       "      background-color: #3B4455;\n",
       "      fill: #D2E3FC;\n",
       "    }\n",
       "\n",
       "    [theme=dark] .colab-df-convert:hover {\n",
       "      background-color: #434B5C;\n",
       "      box-shadow: 0px 1px 3px 1px rgba(0, 0, 0, 0.15);\n",
       "      filter: drop-shadow(0px 1px 2px rgba(0, 0, 0, 0.3));\n",
       "      fill: #FFFFFF;\n",
       "    }\n",
       "  </style>\n",
       "\n",
       "    <script>\n",
       "      const buttonEl =\n",
       "        document.querySelector('#df-7cc6fd05-b1a0-431e-9200-a97dcb2b202a button.colab-df-convert');\n",
       "      buttonEl.style.display =\n",
       "        google.colab.kernel.accessAllowed ? 'block' : 'none';\n",
       "\n",
       "      async function convertToInteractive(key) {\n",
       "        const element = document.querySelector('#df-7cc6fd05-b1a0-431e-9200-a97dcb2b202a');\n",
       "        const dataTable =\n",
       "          await google.colab.kernel.invokeFunction('convertToInteractive',\n",
       "                                                    [key], {});\n",
       "        if (!dataTable) return;\n",
       "\n",
       "        const docLinkHtml = 'Like what you see? Visit the ' +\n",
       "          '<a target=\"_blank\" href=https://colab.research.google.com/notebooks/data_table.ipynb>data table notebook</a>'\n",
       "          + ' to learn more about interactive tables.';\n",
       "        element.innerHTML = '';\n",
       "        dataTable['output_type'] = 'display_data';\n",
       "        await google.colab.output.renderOutput(dataTable, element);\n",
       "        const docLink = document.createElement('div');\n",
       "        docLink.innerHTML = docLinkHtml;\n",
       "        element.appendChild(docLink);\n",
       "      }\n",
       "    </script>\n",
       "  </div>\n",
       "\n",
       "\n",
       "<div id=\"df-5037915a-06ac-4cec-9aa0-b2dd342e5d4e\">\n",
       "  <button class=\"colab-df-quickchart\" onclick=\"quickchart('df-5037915a-06ac-4cec-9aa0-b2dd342e5d4e')\"\n",
       "            title=\"Suggest charts\"\n",
       "            style=\"display:none;\">\n",
       "\n",
       "<svg xmlns=\"http://www.w3.org/2000/svg\" height=\"24px\"viewBox=\"0 0 24 24\"\n",
       "     width=\"24px\">\n",
       "    <g>\n",
       "        <path d=\"M19 3H5c-1.1 0-2 .9-2 2v14c0 1.1.9 2 2 2h14c1.1 0 2-.9 2-2V5c0-1.1-.9-2-2-2zM9 17H7v-7h2v7zm4 0h-2V7h2v10zm4 0h-2v-4h2v4z\"/>\n",
       "    </g>\n",
       "</svg>\n",
       "  </button>\n",
       "\n",
       "<style>\n",
       "  .colab-df-quickchart {\n",
       "      --bg-color: #E8F0FE;\n",
       "      --fill-color: #1967D2;\n",
       "      --hover-bg-color: #E2EBFA;\n",
       "      --hover-fill-color: #174EA6;\n",
       "      --disabled-fill-color: #AAA;\n",
       "      --disabled-bg-color: #DDD;\n",
       "  }\n",
       "\n",
       "  [theme=dark] .colab-df-quickchart {\n",
       "      --bg-color: #3B4455;\n",
       "      --fill-color: #D2E3FC;\n",
       "      --hover-bg-color: #434B5C;\n",
       "      --hover-fill-color: #FFFFFF;\n",
       "      --disabled-bg-color: #3B4455;\n",
       "      --disabled-fill-color: #666;\n",
       "  }\n",
       "\n",
       "  .colab-df-quickchart {\n",
       "    background-color: var(--bg-color);\n",
       "    border: none;\n",
       "    border-radius: 50%;\n",
       "    cursor: pointer;\n",
       "    display: none;\n",
       "    fill: var(--fill-color);\n",
       "    height: 32px;\n",
       "    padding: 0;\n",
       "    width: 32px;\n",
       "  }\n",
       "\n",
       "  .colab-df-quickchart:hover {\n",
       "    background-color: var(--hover-bg-color);\n",
       "    box-shadow: 0 1px 2px rgba(60, 64, 67, 0.3), 0 1px 3px 1px rgba(60, 64, 67, 0.15);\n",
       "    fill: var(--button-hover-fill-color);\n",
       "  }\n",
       "\n",
       "  .colab-df-quickchart-complete:disabled,\n",
       "  .colab-df-quickchart-complete:disabled:hover {\n",
       "    background-color: var(--disabled-bg-color);\n",
       "    fill: var(--disabled-fill-color);\n",
       "    box-shadow: none;\n",
       "  }\n",
       "\n",
       "  .colab-df-spinner {\n",
       "    border: 2px solid var(--fill-color);\n",
       "    border-color: transparent;\n",
       "    border-bottom-color: var(--fill-color);\n",
       "    animation:\n",
       "      spin 1s steps(1) infinite;\n",
       "  }\n",
       "\n",
       "  @keyframes spin {\n",
       "    0% {\n",
       "      border-color: transparent;\n",
       "      border-bottom-color: var(--fill-color);\n",
       "      border-left-color: var(--fill-color);\n",
       "    }\n",
       "    20% {\n",
       "      border-color: transparent;\n",
       "      border-left-color: var(--fill-color);\n",
       "      border-top-color: var(--fill-color);\n",
       "    }\n",
       "    30% {\n",
       "      border-color: transparent;\n",
       "      border-left-color: var(--fill-color);\n",
       "      border-top-color: var(--fill-color);\n",
       "      border-right-color: var(--fill-color);\n",
       "    }\n",
       "    40% {\n",
       "      border-color: transparent;\n",
       "      border-right-color: var(--fill-color);\n",
       "      border-top-color: var(--fill-color);\n",
       "    }\n",
       "    60% {\n",
       "      border-color: transparent;\n",
       "      border-right-color: var(--fill-color);\n",
       "    }\n",
       "    80% {\n",
       "      border-color: transparent;\n",
       "      border-right-color: var(--fill-color);\n",
       "      border-bottom-color: var(--fill-color);\n",
       "    }\n",
       "    90% {\n",
       "      border-color: transparent;\n",
       "      border-bottom-color: var(--fill-color);\n",
       "    }\n",
       "  }\n",
       "</style>\n",
       "\n",
       "  <script>\n",
       "    async function quickchart(key) {\n",
       "      const quickchartButtonEl =\n",
       "        document.querySelector('#' + key + ' button');\n",
       "      quickchartButtonEl.disabled = true;  // To prevent multiple clicks.\n",
       "      quickchartButtonEl.classList.add('colab-df-spinner');\n",
       "      try {\n",
       "        const charts = await google.colab.kernel.invokeFunction(\n",
       "            'suggestCharts', [key], {});\n",
       "      } catch (error) {\n",
       "        console.error('Error during call to suggestCharts:', error);\n",
       "      }\n",
       "      quickchartButtonEl.classList.remove('colab-df-spinner');\n",
       "      quickchartButtonEl.classList.add('colab-df-quickchart-complete');\n",
       "    }\n",
       "    (() => {\n",
       "      let quickchartButtonEl =\n",
       "        document.querySelector('#df-5037915a-06ac-4cec-9aa0-b2dd342e5d4e button');\n",
       "      quickchartButtonEl.style.display =\n",
       "        google.colab.kernel.accessAllowed ? 'block' : 'none';\n",
       "    })();\n",
       "  </script>\n",
       "</div>\n",
       "    </div>\n",
       "  </div>\n"
      ],
      "text/plain": [
       "           Date        Open        High         Low       Close   Adj Close  \\\n",
       "0    2012-01-03   16.262545   16.641375   16.248346   16.573130   16.573130   \n",
       "1    2012-01-04   16.563665   16.693678   16.453827   16.644611   16.644611   \n",
       "2    2012-01-05   16.491436   16.537264   16.344486   16.413727   16.413727   \n",
       "3    2012-01-06   16.417213   16.438385   16.184088   16.189817   16.189817   \n",
       "4    2012-01-09   16.102144   16.114599   15.472754   15.503389   15.503389   \n",
       "...         ...         ...         ...         ...         ...         ...   \n",
       "2982 2023-11-08  132.360001  133.539993  132.160004  133.259995  133.259995   \n",
       "2983 2023-11-09  133.360001  133.960007  131.509995  131.690002  131.690002   \n",
       "2984 2023-11-10  131.529999  134.270004  130.869995  134.059998  134.059998   \n",
       "2985 2023-11-13  133.360001  134.110001  132.770004  133.639999  133.639999   \n",
       "2986 2023-11-14  135.649994  137.240005  135.100006  135.429993  135.429993   \n",
       "\n",
       "         Volume  \n",
       "0     147611217  \n",
       "1     114989399  \n",
       "2     131808205  \n",
       "3     108119746  \n",
       "4     233776981  \n",
       "...         ...  \n",
       "2982   15093600  \n",
       "2983   17976500  \n",
       "2984   20872900  \n",
       "2985   16409900  \n",
       "2986   22317300  \n",
       "\n",
       "[2987 rows x 7 columns]"
      ]
     },
     "execution_count": 8,
     "metadata": {},
     "output_type": "execute_result"
    }
   ],
   "source": [
    "data"
   ]
  },
  {
   "cell_type": "code",
   "execution_count": 9,
   "metadata": {
    "executionInfo": {
     "elapsed": 38,
     "status": "ok",
     "timestamp": 1701362387791,
     "user": {
      "displayName": "Abhishek Bajpai",
      "userId": "11088130130870770770"
     },
     "user_tz": -330
    },
    "id": "Kb7K7VaSFWEX"
   },
   "outputs": [],
   "source": [
    "ma_100_days=data.Close.rolling(100).mean()"
   ]
  },
  {
   "cell_type": "code",
   "execution_count": 10,
   "metadata": {
    "colab": {
     "base_uri": "https://localhost:8080/",
     "height": 522
    },
    "executionInfo": {
     "elapsed": 37,
     "status": "ok",
     "timestamp": 1701362387791,
     "user": {
      "displayName": "Abhishek Bajpai",
      "userId": "11088130130870770770"
     },
     "user_tz": -330
    },
    "id": "_Uy1XI3VFWGE",
    "outputId": "65433b99-da1a-4c4b-cfff-12ab225d1422"
   },
   "outputs": [
    {
     "data": {
      "image/png": "[encoded data removed]",
      "text/plain": [
       "<Figure size 800x600 with 1 Axes>"
      ]
     },
     "metadata": {},
     "output_type": "display_data"
    }
   ],
   "source": [
    "plt.figure(figsize=(8,6))\n",
    "plt.plot(ma_100_days,'r')\n",
    "plt.plot(data.Close,'g')\n",
    "plt.show()"
   ]
  },
  {
   "cell_type": "code",
   "execution_count": 11,
   "metadata": {
    "executionInfo": {
     "elapsed": 37,
     "status": "ok",
     "timestamp": 1701362387792,
     "user": {
      "displayName": "Abhishek Bajpai",
      "userId": "11088130130870770770"
     },
     "user_tz": -330
    },
    "id": "iTga5PRCFWIV"
   },
   "outputs": [],
   "source": [
    "ma_200_days=data.Close.rolling(200).mean()"
   ]
  },
  {
   "cell_type": "code",
   "execution_count": 12,
   "metadata": {
    "colab": {
     "base_uri": "https://localhost:8080/",
     "height": 522
    },
    "executionInfo": {
     "elapsed": 36,
     "status": "ok",
     "timestamp": 1701362387792,
     "user": {
      "displayName": "Abhishek Bajpai",
      "userId": "11088130130870770770"
     },
     "user_tz": -330
    },
    "id": "oKibQdpaFWLv",
    "outputId": "2b0f58ef-db38-427f-fa99-efede0e2b156"
   },
   "outputs": [
    {
     "data": {
      "image/png": "[encoded data removed]",
      "text/plain": [
       "<Figure size 800x600 with 1 Axes>"
      ]
     },
     "metadata": {},
     "output_type": "display_data"
    }
   ],
   "source": [
    "plt.figure(figsize=(8,6))\n",
    "plt.plot(ma_100_days,'r')\n",
    "plt.plot(ma_200_days,'b')\n",
    "plt.plot(data.Close,'g')\n",
    "plt.show()"
   ]
  },
  {
   "cell_type": "code",
   "execution_count": 13,
   "metadata": {
    "executionInfo": {
     "elapsed": 35,
     "status": "ok",
     "timestamp": 1701362387793,
     "user": {
      "displayName": "Abhishek Bajpai",
      "userId": "11088130130870770770"
     },
     "user_tz": -330
    },
    "id": "4piJbnNsFWb-"
   },
   "outputs": [],
   "source": [
    "data.dropna(inplace=True)"
   ]
  },
  {
   "cell_type": "code",
   "execution_count": 14,
   "metadata": {
    "executionInfo": {
     "elapsed": 34,
     "status": "ok",
     "timestamp": 1701362387793,
     "user": {
      "displayName": "Abhishek Bajpai",
      "userId": "11088130130870770770"
     },
     "user_tz": -330
    },
    "id": "VPwzydR_FWee"
   },
   "outputs": [],
   "source": [
    "data_train=pd.DataFrame(data.Close[0:int(len(data)*0.80)])\n",
    "data_test=pd.DataFrame(data.Close[int(len(data)*0.80):len(data)])"
   ]
  },
  {
   "cell_type": "code",
   "execution_count": 15,
   "metadata": {
    "colab": {
     "base_uri": "https://localhost:8080/"
    },
    "executionInfo": {
     "elapsed": 35,
     "status": "ok",
     "timestamp": 1701362387794,
     "user": {
      "displayName": "Abhishek Bajpai",
      "userId": "11088130130870770770"
     },
     "user_tz": -330
    },
    "id": "lp9dwJ3iFWgt",
    "outputId": "493a1a89-cdce-4251-e3d6-e2176c4bfd23"
   },
   "outputs": [
    {
     "data": {
      "text/plain": [
       "2389"
      ]
     },
     "execution_count": 15,
     "metadata": {},
     "output_type": "execute_result"
    }
   ],
   "source": [
    "data_train.shape[0]"
   ]
  },
  {
   "cell_type": "code",
   "execution_count": 16,
   "metadata": {
    "colab": {
     "base_uri": "https://localhost:8080/"
    },
    "executionInfo": {
     "elapsed": 32,
     "status": "ok",
     "timestamp": 1701362387794,
     "user": {
      "displayName": "Abhishek Bajpai",
      "userId": "11088130130870770770"
     },
     "user_tz": -330
    },
    "id": "_F9oO-7uFWkI",
    "outputId": "56793540-9ddd-40d0-c59a-a8464312d2bc"
   },
   "outputs": [
    {
     "data": {
      "text/plain": [
       "2389"
      ]
     },
     "execution_count": 16,
     "metadata": {},
     "output_type": "execute_result"
    }
   ],
   "source": [
    "data_train.shape[0]"
   ]
  },
  {
   "cell_type": "code",
   "execution_count": 17,
   "metadata": {
    "executionInfo": {
     "elapsed": 569,
     "status": "ok",
     "timestamp": 1701362388334,
     "user": {
      "displayName": "Abhishek Bajpai",
      "userId": "11088130130870770770"
     },
     "user_tz": -330
    },
    "id": "JEyQHh05FWzB"
   },
   "outputs": [],
   "source": [
    "from sklearn.preprocessing import MinMaxScaler\n",
    "scaler=MinMaxScaler(feature_range=(0,1))"
   ]
  },
  {
   "cell_type": "code",
   "execution_count": 18,
   "metadata": {
    "executionInfo": {
     "elapsed": 5,
     "status": "ok",
     "timestamp": 1701362388334,
     "user": {
      "displayName": "Abhishek Bajpai",
      "userId": "11088130130870770770"
     },
     "user_tz": -330
    },
    "id": "r0kqby6CFW1A"
   },
   "outputs": [],
   "source": [
    "data_train_scale=scaler.fit_transform(data_train)"
   ]
  },
  {
   "cell_type": "code",
   "execution_count": 19,
   "metadata": {
    "executionInfo": {
     "elapsed": 6,
     "status": "ok",
     "timestamp": 1701362388335,
     "user": {
      "displayName": "Abhishek Bajpai",
      "userId": "11088130130870770770"
     },
     "user_tz": -330
    },
    "id": "EnHDoDtfFW2k"
   },
   "outputs": [],
   "source": [
    "x=[]\n",
    "y=[]\n",
    "\n",
    "for i in range(100,data_train_scale.shape[0]):\n",
    "    x.append(data_train_scale[i-100:i])\n",
    "    y.append(data_train_scale[i,0])"
   ]
  },
  {
   "cell_type": "code",
   "execution_count": 20,
   "metadata": {
    "executionInfo": {
     "elapsed": 5,
     "status": "ok",
     "timestamp": 1701362388335,
     "user": {
      "displayName": "Abhishek Bajpai",
      "userId": "11088130130870770770"
     },
     "user_tz": -330
    },
    "id": "nJiwN4sfFW5y"
   },
   "outputs": [],
   "source": [
    "x,y=np.array(x),np.array(y)"
   ]
  },
  {
   "cell_type": "code",
   "execution_count": 21,
   "metadata": {
    "executionInfo": {
     "elapsed": 4797,
     "status": "ok",
     "timestamp": 1701362393900,
     "user": {
      "displayName": "Abhishek Bajpai",
      "userId": "11088130130870770770"
     },
     "user_tz": -330
    },
    "id": "-Oi1NurbGAS4"
   },
   "outputs": [],
   "source": [
    "from tensorflow.keras.layers import Dense, Dropout, LSTM\n",
    "from tensorflow.keras.models import Sequential"
   ]
  },
  {
   "cell_type": "code",
   "execution_count": 22,
   "metadata": {
    "executionInfo": {
     "elapsed": 9,
     "status": "ok",
     "timestamp": 1701362393900,
     "user": {
      "displayName": "Abhishek Bajpai",
      "userId": "11088130130870770770"
     },
     "user_tz": -330
    },
    "id": "2CFrevGIGAVL"
   },
   "outputs": [],
   "source": [
    "model=Sequential()\n",
    "model.add(LSTM(units=50,activation='relu',return_sequences=True,\n",
    "              input_shape=((x.shape[1],1))))\n",
    "model.add(Dropout(0.2))\n",
    "\n",
    "model.add(LSTM(units=60,activation='relu',return_sequences=True))\n",
    "model.add(Dropout(0.3))\n",
    "\n",
    "model.add(LSTM(units=80,activation='relu',return_sequences=True))\n",
    "model.add(Dropout(0.4))\n",
    "\n",
    "model.add(LSTM(units=120,activation='relu'))\n",
    "model.add(Dropout(0.5))\n",
    "\n",
    "model.add(Dense(units=1))"
   ]
  },
  {
   "cell_type": "code",
   "execution_count": 23,
   "metadata": {
    "executionInfo": {
     "elapsed": 6,
     "status": "ok",
     "timestamp": 1701362393900,
     "user": {
      "displayName": "Abhishek Bajpai",
      "userId": "11088130130870770770"
     },
     "user_tz": -330
    },
    "id": "YQCuGp5nGAX3"
   },
   "outputs": [],
   "source": [
    "model.compile(optimizer='adam',loss='mean_squared_error')"
   ]
  },
  {
   "cell_type": "code",
   "execution_count": 24,
   "metadata": {
    "colab": {
     "base_uri": "https://localhost:8080/"
    },
    "executionInfo": {
     "elapsed": 1169540,
     "status": "ok",
     "timestamp": 1701363563434,
     "user": {
      "displayName": "Abhishek Bajpai",
      "userId": "11088130130870770770"
     },
     "user_tz": -330
    },
    "id": "hxj2kQImGAal",
    "outputId": "ab1459f1-cb39-46b0-e196-801ce493b4b4"
   },
   "outputs": [
    {
     "name": "stdout",
     "output_type": "stream",
     "text": [
      "Epoch 1/50\n",
      "72/72 [==============================] - 30s 334ms/step - loss: 0.0170\n",
      "Epoch 2/50\n",
      "72/72 [==============================] - 22s 300ms/step - loss: 0.0035\n",
      "Epoch 3/50\n",
      "72/72 [==============================] - 24s 336ms/step - loss: 0.0039\n",
      "Epoch 4/50\n",
      "72/72 [==============================] - 23s 318ms/step - loss: 0.0026\n",
      "Epoch 5/50\n",
      "72/72 [==============================] - 24s 325ms/step - loss: 0.0034\n",
      "Epoch 6/50\n",
      "72/72 [==============================] - 23s 319ms/step - loss: 0.0026\n",
      "Epoch 7/50\n",
      "72/72 [==============================] - 23s 317ms/step - loss: 0.0028\n",
      "Epoch 8/50\n",
      "72/72 [==============================] - 24s 334ms/step - loss: 0.0024\n",
      "Epoch 9/50\n",
      "72/72 [==============================] - 22s 299ms/step - loss: 0.0026\n",
      "Epoch 10/50\n",
      "72/72 [==============================] - 24s 335ms/step - loss: 0.0024\n",
      "Epoch 11/50\n",
      "72/72 [==============================] - 22s 301ms/step - loss: 0.0026\n",
      "Epoch 12/50\n",
      "72/72 [==============================] - 24s 331ms/step - loss: 0.0021\n",
      "Epoch 13/50\n",
      "72/72 [==============================] - 22s 302ms/step - loss: 0.0026\n",
      "Epoch 14/50\n",
      "72/72 [==============================] - 24s 339ms/step - loss: 0.0019\n",
      "Epoch 15/50\n",
      "72/72 [==============================] - 23s 321ms/step - loss: 0.0022\n",
      "Epoch 16/50\n",
      "72/72 [==============================] - 23s 313ms/step - loss: 0.0021\n",
      "Epoch 17/50\n",
      "72/72 [==============================] - 24s 330ms/step - loss: 0.0018\n",
      "Epoch 18/50\n",
      "72/72 [==============================] - 22s 306ms/step - loss: 0.0017\n",
      "Epoch 19/50\n",
      "72/72 [==============================] - 24s 331ms/step - loss: 0.0018\n",
      "Epoch 20/50\n",
      "72/72 [==============================] - 22s 303ms/step - loss: 0.0017\n",
      "Epoch 21/50\n",
      "72/72 [==============================] - 24s 332ms/step - loss: 0.0018\n",
      "Epoch 22/50\n",
      "72/72 [==============================] - 22s 303ms/step - loss: 0.0021\n",
      "Epoch 23/50\n",
      "72/72 [==============================] - 24s 335ms/step - loss: 0.0016\n",
      "Epoch 24/50\n",
      "72/72 [==============================] - 22s 310ms/step - loss: 0.0019\n",
      "Epoch 25/50\n",
      "72/72 [==============================] - 23s 319ms/step - loss: 0.0015\n",
      "Epoch 26/50\n",
      "72/72 [==============================] - 24s 335ms/step - loss: 0.0014\n",
      "Epoch 27/50\n",
      "72/72 [==============================] - 22s 304ms/step - loss: 0.0016\n",
      "Epoch 28/50\n",
      "72/72 [==============================] - 24s 333ms/step - loss: 0.0016\n",
      "Epoch 29/50\n",
      "72/72 [==============================] - 22s 307ms/step - loss: 0.0016\n",
      "Epoch 30/50\n",
      "72/72 [==============================] - 24s 335ms/step - loss: 0.0015\n",
      "Epoch 31/50\n",
      "72/72 [==============================] - 22s 302ms/step - loss: 0.0015\n",
      "Epoch 32/50\n",
      "72/72 [==============================] - 24s 332ms/step - loss: 0.0014\n",
      "Epoch 33/50\n",
      "72/72 [==============================] - 23s 323ms/step - loss: 0.0014\n",
      "Epoch 34/50\n",
      "72/72 [==============================] - 23s 312ms/step - loss: 0.0016\n",
      "Epoch 35/50\n",
      "72/72 [==============================] - 24s 333ms/step - loss: 0.0015\n",
      "Epoch 36/50\n",
      "72/72 [==============================] - 22s 305ms/step - loss: 0.0016\n",
      "Epoch 37/50\n",
      "72/72 [==============================] - 24s 333ms/step - loss: 0.0015\n",
      "Epoch 38/50\n",
      "72/72 [==============================] - 21s 298ms/step - loss: 0.0014\n",
      "Epoch 39/50\n",
      "72/72 [==============================] - 24s 331ms/step - loss: 0.0014\n",
      "Epoch 40/50\n",
      "72/72 [==============================] - 22s 304ms/step - loss: 0.0014\n",
      "Epoch 41/50\n",
      "72/72 [==============================] - 24s 335ms/step - loss: 0.0013\n",
      "Epoch 42/50\n",
      "72/72 [==============================] - 23s 317ms/step - loss: 0.0014\n",
      "Epoch 43/50\n",
      "72/72 [==============================] - 23s 319ms/step - loss: 0.0013\n",
      "Epoch 44/50\n",
      "72/72 [==============================] - 24s 333ms/step - loss: 0.0013\n",
      "Epoch 45/50\n",
      "72/72 [==============================] - 22s 302ms/step - loss: 0.0015\n",
      "Epoch 46/50\n",
      "72/72 [==============================] - 24s 330ms/step - loss: 0.0015\n",
      "Epoch 47/50\n",
      "72/72 [==============================] - 22s 301ms/step - loss: 0.0015\n",
      "Epoch 48/50\n",
      "72/72 [==============================] - 24s 339ms/step - loss: 0.0013\n",
      "Epoch 49/50\n",
      "72/72 [==============================] - 22s 306ms/step - loss: 0.0014\n",
      "Epoch 50/50\n",
      "72/72 [==============================] - 24s 335ms/step - loss: 0.0014\n"
     ]
    },
    {
     "data": {
      "text/plain": [
       "<keras.src.callbacks.History at 0x7e502464f400>"
      ]
     },
     "execution_count": 24,
     "metadata": {},
     "output_type": "execute_result"
    }
   ],
   "source": [
    "model.fit(x,y,epochs=50,batch_size=32,verbose=1)"
   ]
  },
  {
   "cell_type": "code",
   "execution_count": 25,
   "metadata": {
    "colab": {
     "base_uri": "https://localhost:8080/"
    },
    "executionInfo": {
     "elapsed": 13,
     "status": "ok",
     "timestamp": 1701363563434,
     "user": {
      "displayName": "Abhishek Bajpai",
      "userId": "11088130130870770770"
     },
     "user_tz": -330
    },
    "id": "yjyYDEWVGAe2",
    "outputId": "b9c0d26d-8d29-449d-ceff-4926219d55ef"
   },
   "outputs": [
    {
     "name": "stdout",
     "output_type": "stream",
     "text": [
      "Model: \"sequential\"\n",
      "_________________________________________________________________\n",
      " Layer (type)                Output Shape              Param #   \n",
      "=================================================================\n",
      " lstm (LSTM)                 (None, 100, 50)           10400     \n",
      "                                                                 \n",
      " dropout (Dropout)           (None, 100, 50)           0         \n",
      "                                                                 \n",
      " lstm_1 (LSTM)               (None, 100, 60)           26640     \n",
      "                                                                 \n",
      " dropout_1 (Dropout)         (None, 100, 60)           0         \n",
      "                                                                 \n",
      " lstm_2 (LSTM)               (None, 100, 80)           45120     \n",
      "                                                                 \n",
      " dropout_2 (Dropout)         (None, 100, 80)           0         \n",
      "                                                                 \n",
      " lstm_3 (LSTM)               (None, 120)               96480     \n",
      "                                                                 \n",
      " dropout_3 (Dropout)         (None, 120)               0         \n",
      "                                                                 \n",
      " dense (Dense)               (None, 1)                 121       \n",
      "                                                                 \n",
      "=================================================================\n",
      "Total params: 178761 (698.29 KB)\n",
      "Trainable params: 178761 (698.29 KB)\n",
      "Non-trainable params: 0 (0.00 Byte)\n",
      "_________________________________________________________________\n"
     ]
    }
   ],
   "source": [
    "model.summary()"
   ]
  },
  {
   "cell_type": "code",
   "execution_count": 26,
   "metadata": {
    "executionInfo": {
     "elapsed": 5,
     "status": "ok",
     "timestamp": 1701363563434,
     "user": {
      "displayName": "Abhishek Bajpai",
      "userId": "11088130130870770770"
     },
     "user_tz": -330
    },
    "id": "hMKTLsPPGAgk"
   },
   "outputs": [],
   "source": [
    "pas_100_days=data_train.tail(100)"
   ]
  },
  {
   "cell_type": "code",
   "execution_count": 27,
   "metadata": {
    "executionInfo": {
     "elapsed": 4,
     "status": "ok",
     "timestamp": 1701363563434,
     "user": {
      "displayName": "Abhishek Bajpai",
      "userId": "11088130130870770770"
     },
     "user_tz": -330
    },
    "id": "wb9EtyUjGAkB"
   },
   "outputs": [],
   "source": [
    "data_test=pd.concat([pas_100_days,data_test],ignore_index=True)"
   ]
  },
  {
   "cell_type": "code",
   "execution_count": 28,
   "metadata": {
    "executionInfo": {
     "elapsed": 4,
     "status": "ok",
     "timestamp": 1701363563434,
     "user": {
      "displayName": "Abhishek Bajpai",
      "userId": "11088130130870770770"
     },
     "user_tz": -330
    },
    "id": "ApyGJFdIGAty"
   },
   "outputs": [],
   "source": [
    "data_test_scale=scaler.fit_transform(data_test)"
   ]
  },
  {
   "cell_type": "code",
   "execution_count": 29,
   "metadata": {
    "executionInfo": {
     "elapsed": 645,
     "status": "ok",
     "timestamp": 1701364469513,
     "user": {
      "displayName": "Abhishek Bajpai",
      "userId": "11088130130870770770"
     },
     "user_tz": -330
    },
    "id": "DXZN8SwIN6si"
   },
   "outputs": [],
   "source": [
    "x=[]\n",
    "y=[]\n",
    "\n",
    "for i in range(100,data_test_scale.shape[0]):\n",
    "    x.append(data_test_scale[i-100:i])\n",
    "    y.append(data_test_scale[i,0])\n",
    "x,y=np.array(x),np.array(y)"
   ]
  },
  {
   "cell_type": "code",
   "execution_count": 30,
   "metadata": {
    "colab": {
     "base_uri": "https://localhost:8080/"
    },
    "executionInfo": {
     "elapsed": 3793,
     "status": "ok",
     "timestamp": 1701364473992,
     "user": {
      "displayName": "Abhishek Bajpai",
      "userId": "11088130130870770770"
     },
     "user_tz": -330
    },
    "id": "1O5UxLQQN6uY",
    "outputId": "a3ec9571-d1c7-4387-92f9-aa0b78790aa0"
   },
   "outputs": [
    {
     "name": "stdout",
     "output_type": "stream",
     "text": [
      "19/19 [==============================] - 2s 80ms/step\n"
     ]
    }
   ],
   "source": [
    "y_predict=model.predict(x)"
   ]
  },
  {
   "cell_type": "code",
   "execution_count": 31,
   "metadata": {
    "executionInfo": {
     "elapsed": 3,
     "status": "ok",
     "timestamp": 1701364473993,
     "user": {
      "displayName": "Abhishek Bajpai",
      "userId": "11088130130870770770"
     },
     "user_tz": -330
    },
    "id": "7E34i6mbN6yB"
   },
   "outputs": [],
   "source": [
    "scale=1/scaler.scale_"
   ]
  },
  {
   "cell_type": "code",
   "execution_count": 32,
   "metadata": {
    "executionInfo": {
     "elapsed": 472,
     "status": "ok",
     "timestamp": 1701364476598,
     "user": {
      "displayName": "Abhishek Bajpai",
      "userId": "11088130130870770770"
     },
     "user_tz": -330
    },
    "id": "29U-BkAaN65R"
   },
   "outputs": [],
   "source": [
    "y_predict=y_predict*scale"
   ]
  },
  {
   "cell_type": "code",
   "execution_count": 33,
   "metadata": {
    "executionInfo": {
     "elapsed": 3,
     "status": "ok",
     "timestamp": 1701364477214,
     "user": {
      "displayName": "Abhishek Bajpai",
      "userId": "11088130130870770770"
     },
     "user_tz": -330
    },
    "id": "6CJ5EfMQOH7C"
   },
   "outputs": [],
   "source": [
    "y=y*scale"
   ]
  },
  {
   "cell_type": "code",
   "execution_count": 34,
   "metadata": {
    "colab": {
     "base_uri": "https://localhost:8080/",
     "height": 696
    },
    "executionInfo": {
     "elapsed": 10,
     "status": "ok",
     "timestamp": 1701364479551,
     "user": {
      "displayName": "Abhishek Bajpai",
      "userId": "11088130130870770770"
     },
     "user_tz": -330
    },
    "id": "YCLg7nW-OIBq",
    "outputId": "4268101a-94fb-4c8f-cb72-8f4497a8cd8f"
   },
   "outputs": [
    {
     "data": {
      "image/png": "[encoded data removed]",
      "text/plain": [
       "<Figure size 1000x800 with 1 Axes>"
      ]
     },
     "metadata": {},
     "output_type": "display_data"
    }
   ],
   "source": [
    "plt.figure(figsize=(10,8))\n",
    "plt.plot(y_predict,'r',label='Predicted Price')\n",
    "plt.plot(y,'g',label='Original Price')\n",
    "plt.xlabel('Time')\n",
    "plt.ylabel('Price')\n",
    "plt.legend()\n",
    "plt.show()"
   ]
  },
  {
   "cell_type": "code",
   "execution_count": 35,
   "metadata": {
    "executionInfo": {
     "elapsed": 1266,
     "status": "ok",
     "timestamp": 1701364481352,
     "user": {
      "displayName": "Abhishek Bajpai",
      "userId": "11088130130870770770"
     },
     "user_tz": -330
    },
    "id": "Lg1Id1klOIGr"
   },
   "outputs": [],
   "source": [
    "model.save('STOCK (LSTM).keras')"
   ]
  }
 ],
 "metadata": {
  "colab": {
   "authorship_tag": "ABX9TyMwsyjd3ZHMufutvcyRGMCh",
   "provenance": []
  },
  "kernelspec": {
   "display_name": "Python 3 (ipykernel)",
   "language": "python",
   "name": "python3"
  },
  "language_info": {
   "codemirror_mode": {
    "name": "ipython",
    "version": 3
   },
   "file_extension": ".py",
   "mimetype": "text/x-python",
   "name": "python",
   "nbconvert_exporter": "python",
   "pygments_lexer": "ipython3",
   "version": "3.11.4"
  }
 },
 "nbformat": 4,
 "nbformat_minor": 1
}
